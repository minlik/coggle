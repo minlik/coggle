{
 "cells": [
  {
   "cell_type": "markdown",
   "metadata": {
    "id": "xglA5a0PmjxG"
   },
   "source": [
    "**任务1：报名比赛，下载比赛数据集并完成读取**\n",
    "\n",
    "- **步骤1** ：登录&报名比赛：https://aistudio.baidu.com/aistudio/competition/detail/45/0/task-definition\n",
    "- **步骤2** ：下载比赛数据集\n",
    "- **步骤3** ：使用`Pandas`完成数据读取。"
   ]
  },
  {
   "cell_type": "code",
   "execution_count": 1,
   "metadata": {
    "id": "v9AnG5_Hmnbn"
   },
   "outputs": [],
   "source": [
    "# !wget https://dataset-bj.cdn.bcebos.com/qianyan/bq_corpus.zip\n",
    "# !wget https://dataset-bj.cdn.bcebos.com/qianyan/lcqmc.zip\n",
    "# !wget https://dataset-bj.cdn.bcebos.com/qianyan/paws-x-zh.zip"
   ]
  },
  {
   "cell_type": "code",
   "execution_count": 2,
   "metadata": {
    "id": "kszIhXL3NZr5"
   },
   "outputs": [],
   "source": [
    "DataSet_Path = {\n",
    "    'lcqmc':\n",
    "            {'train':'data/lcqmc/train.tsv',\n",
    "             'dev':'data/lcqmc/dev.tsv',\n",
    "             'test':'data/lcqmc/test.tsv'},\n",
    "    'paws':\n",
    "            {'train':'data/paws-x-zh/train.tsv',\n",
    "             'dev':'data/paws-x-zh/dev.tsv',\n",
    "             'test':'data/paws-x-zh/test.tsv'},\n",
    "    'corpus':\n",
    "            {'train':'data/bq_corpus/train.tsv',\n",
    "             'dev':'data/bq_corpus/dev.tsv',\n",
    "             'test':'data/bq_corpus/test.tsv'}\n",
    "}"
   ]
  },
  {
   "cell_type": "code",
   "execution_count": 3,
   "metadata": {
    "id": "gs2rNz0bSp_h"
   },
   "outputs": [],
   "source": [
    "# !wget https://raw.githubusercontent.com/goto456/stopwords/master/cn_stopwords.txt"
   ]
  },
  {
   "cell_type": "code",
   "execution_count": 4,
   "metadata": {
    "id": "2G_0BZnBSuYl"
   },
   "outputs": [],
   "source": [
    "with open('data/cn_stopwords.txt', 'r') as f:\n",
    "    stopwords = []\n",
    "    for word in f.readlines():\n",
    "        stopwords.append(word.strip())"
   ]
  },
  {
   "cell_type": "code",
   "execution_count": 5,
   "metadata": {
    "id": "EQ9VYte-OIkB"
   },
   "outputs": [],
   "source": [
    "Train_Data_Style = ['text1', 'text2', 'label']\n",
    "Dev_Data_Style = ['text1', 'text2', 'label']\n",
    "Test_Data_Style = ['text1', 'text2']"
   ]
  },
  {
   "cell_type": "code",
   "execution_count": 6,
   "metadata": {
    "colab": {
     "base_uri": "https://localhost:8080/"
    },
    "id": "SbVYLwmyunhZ",
    "outputId": "e0f26e68-aad0-4c53-b60c-0ea1a285aa39"
   },
   "outputs": [
    {
     "name": "stderr",
     "output_type": "stream",
     "text": [
      "/home/kuan/.local/lib/python3.8/site-packages/pandas/util/_decorators.py:311: ParserWarning: Falling back to the 'python' engine because the 'c' engine does not support regex separators (separators > 1 char and different from '\\s+' are interpreted as regex); you can avoid this warning by specifying engine='python'.\n",
      "  return func(*args, **kwargs)\n"
     ]
    }
   ],
   "source": [
    "import pandas as pd\n",
    "import numpy as np\n",
    "\n",
    "corpus_train_df = pd.read_csv(DataSet_Path['corpus']['train'], sep='\\t\\n', header=None)\n",
    "text1 = np.asarray([i.split('\\t')[0] for i in corpus_train_df[0]])\n",
    "text2 = np.asarray([i.split('\\t')[1] for i in corpus_train_df[0]])\n",
    "label = np.asarray([i.split('\\t')[2] for i in corpus_train_df[0]])\n",
    "corpus_train_df['text1'] = text1\n",
    "corpus_train_df['text2'] = text2\n",
    "corpus_train_df['label'] = label.astype(int)\n",
    "corpus_train_df.drop(corpus_train_df.columns[0], axis=1, inplace=True)\n",
    "\n",
    "corpus_dev_df = pd.read_table(DataSet_Path['corpus']['dev'], header=None)\n",
    "corpus_dev_df.columns = Dev_Data_Style\n",
    "\n",
    "corpus_test_df = pd.read_table(DataSet_Path['corpus']['test'], header=None)\n",
    "corpus_test_df.columns = Test_Data_Style"
   ]
  },
  {
   "cell_type": "code",
   "execution_count": 7,
   "metadata": {
    "colab": {
     "base_uri": "https://localhost:8080/",
     "height": 204
    },
    "id": "_HKu4y33PbZk",
    "outputId": "b7196d0b-2b38-459f-b564-1f9f67b02ab0"
   },
   "outputs": [
    {
     "data": {
      "text/html": [
       "<div>\n",
       "<style scoped>\n",
       "    .dataframe tbody tr th:only-of-type {\n",
       "        vertical-align: middle;\n",
       "    }\n",
       "\n",
       "    .dataframe tbody tr th {\n",
       "        vertical-align: top;\n",
       "    }\n",
       "\n",
       "    .dataframe thead th {\n",
       "        text-align: right;\n",
       "    }\n",
       "</style>\n",
       "<table border=\"1\" class=\"dataframe\">\n",
       "  <thead>\n",
       "    <tr style=\"text-align: right;\">\n",
       "      <th></th>\n",
       "      <th>text1</th>\n",
       "      <th>text2</th>\n",
       "      <th>label</th>\n",
       "    </tr>\n",
       "  </thead>\n",
       "  <tbody>\n",
       "    <tr>\n",
       "      <th>0</th>\n",
       "      <td>用微信都6年，微信没有微粒贷功能</td>\n",
       "      <td>4。号码来微粒贷</td>\n",
       "      <td>0</td>\n",
       "    </tr>\n",
       "    <tr>\n",
       "      <th>1</th>\n",
       "      <td>微信消费算吗</td>\n",
       "      <td>还有多少钱没还</td>\n",
       "      <td>0</td>\n",
       "    </tr>\n",
       "    <tr>\n",
       "      <th>2</th>\n",
       "      <td>交易密码忘记了找回密码绑定的手机卡也掉了</td>\n",
       "      <td>怎么最近安全老是要改密码呢好麻烦</td>\n",
       "      <td>0</td>\n",
       "    </tr>\n",
       "    <tr>\n",
       "      <th>3</th>\n",
       "      <td>你好我昨天晚上申请的没有打电话给我今天之内一定会打吗？</td>\n",
       "      <td>什么时候可以到账</td>\n",
       "      <td>0</td>\n",
       "    </tr>\n",
       "    <tr>\n",
       "      <th>4</th>\n",
       "      <td>“微粒贷开通\"</td>\n",
       "      <td>你好，我的微粒贷怎么没有开通呢</td>\n",
       "      <td>0</td>\n",
       "    </tr>\n",
       "  </tbody>\n",
       "</table>\n",
       "</div>"
      ],
      "text/plain": [
       "                         text1             text2  label\n",
       "0             用微信都6年，微信没有微粒贷功能          4。号码来微粒贷      0\n",
       "1                       微信消费算吗           还有多少钱没还      0\n",
       "2         交易密码忘记了找回密码绑定的手机卡也掉了  怎么最近安全老是要改密码呢好麻烦      0\n",
       "3  你好我昨天晚上申请的没有打电话给我今天之内一定会打吗？          什么时候可以到账      0\n",
       "4                      “微粒贷开通\"   你好，我的微粒贷怎么没有开通呢      0"
      ]
     },
     "execution_count": 7,
     "metadata": {},
     "output_type": "execute_result"
    }
   ],
   "source": [
    "corpus_train_df.head()"
   ]
  },
  {
   "cell_type": "code",
   "execution_count": 8,
   "metadata": {
    "colab": {
     "base_uri": "https://localhost:8080/"
    },
    "id": "09YabUPbQXL1",
    "outputId": "45856b72-f0ea-4ca4-b87e-16ae9dd2cfcc"
   },
   "outputs": [
    {
     "name": "stdout",
     "output_type": "stream",
     "text": [
      "<class 'pandas.core.frame.DataFrame'>\n",
      "RangeIndex: 100000 entries, 0 to 99999\n",
      "Data columns (total 3 columns):\n",
      " #   Column  Non-Null Count   Dtype \n",
      "---  ------  --------------   ----- \n",
      " 0   text1   100000 non-null  object\n",
      " 1   text2   100000 non-null  object\n",
      " 2   label   100000 non-null  int64 \n",
      "dtypes: int64(1), object(2)\n",
      "memory usage: 2.3+ MB\n"
     ]
    }
   ],
   "source": [
    "corpus_train_df.info()"
   ]
  },
  {
   "cell_type": "code",
   "execution_count": 9,
   "metadata": {
    "colab": {
     "base_uri": "https://localhost:8080/"
    },
    "id": "U5VqsfKKQ0Q_",
    "outputId": "2d86ee46-7060-4b2a-fe93-ff59163c5c42"
   },
   "outputs": [
    {
     "data": {
      "text/plain": [
       "0    50000\n",
       "1    50000\n",
       "Name: label, dtype: int64"
      ]
     },
     "execution_count": 9,
     "metadata": {},
     "output_type": "execute_result"
    }
   ],
   "source": [
    "corpus_train_df.label.value_counts()"
   ]
  },
  {
   "cell_type": "code",
   "execution_count": 10,
   "metadata": {
    "colab": {
     "base_uri": "https://localhost:8080/",
     "height": 204
    },
    "id": "W4vyvnkFohhS",
    "outputId": "d0c2f22d-129e-44b1-8916-a71d1e473d86"
   },
   "outputs": [
    {
     "data": {
      "text/html": [
       "<div>\n",
       "<style scoped>\n",
       "    .dataframe tbody tr th:only-of-type {\n",
       "        vertical-align: middle;\n",
       "    }\n",
       "\n",
       "    .dataframe tbody tr th {\n",
       "        vertical-align: top;\n",
       "    }\n",
       "\n",
       "    .dataframe thead th {\n",
       "        text-align: right;\n",
       "    }\n",
       "</style>\n",
       "<table border=\"1\" class=\"dataframe\">\n",
       "  <thead>\n",
       "    <tr style=\"text-align: right;\">\n",
       "      <th></th>\n",
       "      <th>text1</th>\n",
       "      <th>text2</th>\n",
       "      <th>label</th>\n",
       "    </tr>\n",
       "  </thead>\n",
       "  <tbody>\n",
       "    <tr>\n",
       "      <th>0</th>\n",
       "      <td>不要借了我是试试看能否操作的</td>\n",
       "      <td>借款审核期间能否取消借款</td>\n",
       "      <td>0</td>\n",
       "    </tr>\n",
       "    <tr>\n",
       "      <th>1</th>\n",
       "      <td>亲怎样才能在钱包里有微粒货的图标呢</td>\n",
       "      <td>借不到</td>\n",
       "      <td>0</td>\n",
       "    </tr>\n",
       "    <tr>\n",
       "      <th>2</th>\n",
       "      <td>你好，我还款银行怎么更换</td>\n",
       "      <td>怎么更换绑定还款的卡</td>\n",
       "      <td>1</td>\n",
       "    </tr>\n",
       "    <tr>\n",
       "      <th>3</th>\n",
       "      <td>我的借贷额度，怎么减少了呢？</td>\n",
       "      <td>微粒贷额度怎么才能降低</td>\n",
       "      <td>0</td>\n",
       "    </tr>\n",
       "    <tr>\n",
       "      <th>4</th>\n",
       "      <td>什么时候可以知道借款成功</td>\n",
       "      <td>2.多笔借款</td>\n",
       "      <td>0</td>\n",
       "    </tr>\n",
       "  </tbody>\n",
       "</table>\n",
       "</div>"
      ],
      "text/plain": [
       "               text1         text2  label\n",
       "0     不要借了我是试试看能否操作的  借款审核期间能否取消借款      0\n",
       "1  亲怎样才能在钱包里有微粒货的图标呢           借不到      0\n",
       "2       你好，我还款银行怎么更换    怎么更换绑定还款的卡      1\n",
       "3     我的借贷额度，怎么减少了呢？   微粒贷额度怎么才能降低      0\n",
       "4       什么时候可以知道借款成功        2.多笔借款      0"
      ]
     },
     "execution_count": 10,
     "metadata": {},
     "output_type": "execute_result"
    }
   ],
   "source": [
    "corpus_dev_df.head()"
   ]
  },
  {
   "cell_type": "code",
   "execution_count": 11,
   "metadata": {
    "colab": {
     "base_uri": "https://localhost:8080/"
    },
    "id": "LAoa2HTgvLEB",
    "outputId": "94eedbf7-656d-482c-ade2-d664e44277cc"
   },
   "outputs": [
    {
     "name": "stdout",
     "output_type": "stream",
     "text": [
      "<class 'pandas.core.frame.DataFrame'>\n",
      "RangeIndex: 10000 entries, 0 to 9999\n",
      "Data columns (total 3 columns):\n",
      " #   Column  Non-Null Count  Dtype \n",
      "---  ------  --------------  ----- \n",
      " 0   text1   10000 non-null  object\n",
      " 1   text2   10000 non-null  object\n",
      " 2   label   10000 non-null  int64 \n",
      "dtypes: int64(1), object(2)\n",
      "memory usage: 234.5+ KB\n"
     ]
    }
   ],
   "source": [
    "corpus_dev_df.info()"
   ]
  },
  {
   "cell_type": "code",
   "execution_count": 12,
   "metadata": {
    "colab": {
     "base_uri": "https://localhost:8080/"
    },
    "id": "0pir55CEQ4Pl",
    "outputId": "ad0f0c61-286d-435a-85b4-af3530dc70cb"
   },
   "outputs": [
    {
     "data": {
      "text/plain": [
       "0    5000\n",
       "1    5000\n",
       "Name: label, dtype: int64"
      ]
     },
     "execution_count": 12,
     "metadata": {},
     "output_type": "execute_result"
    }
   ],
   "source": [
    "corpus_dev_df.label.value_counts()"
   ]
  },
  {
   "cell_type": "code",
   "execution_count": 13,
   "metadata": {
    "colab": {
     "base_uri": "https://localhost:8080/",
     "height": 204
    },
    "id": "tEACOUA3QqjB",
    "outputId": "2a70e31c-6835-4a3d-9486-8e6ecbf4c636"
   },
   "outputs": [
    {
     "data": {
      "text/html": [
       "<div>\n",
       "<style scoped>\n",
       "    .dataframe tbody tr th:only-of-type {\n",
       "        vertical-align: middle;\n",
       "    }\n",
       "\n",
       "    .dataframe tbody tr th {\n",
       "        vertical-align: top;\n",
       "    }\n",
       "\n",
       "    .dataframe thead th {\n",
       "        text-align: right;\n",
       "    }\n",
       "</style>\n",
       "<table border=\"1\" class=\"dataframe\">\n",
       "  <thead>\n",
       "    <tr style=\"text-align: right;\">\n",
       "      <th></th>\n",
       "      <th>text1</th>\n",
       "      <th>text2</th>\n",
       "    </tr>\n",
       "  </thead>\n",
       "  <tbody>\n",
       "    <tr>\n",
       "      <th>0</th>\n",
       "      <td>为什么我无法看到额度</td>\n",
       "      <td>为什么开通了却没有额度</td>\n",
       "    </tr>\n",
       "    <tr>\n",
       "      <th>1</th>\n",
       "      <td>为啥换不了</td>\n",
       "      <td>为两次还都提示失败呢</td>\n",
       "    </tr>\n",
       "    <tr>\n",
       "      <th>2</th>\n",
       "      <td>借了钱，但还没有通过，可以取消吗？</td>\n",
       "      <td>可否取消</td>\n",
       "    </tr>\n",
       "    <tr>\n",
       "      <th>3</th>\n",
       "      <td>为什么我申请额度输入密码就一直是那个页面</td>\n",
       "      <td>为什么要输入支付密码来验证</td>\n",
       "    </tr>\n",
       "    <tr>\n",
       "      <th>4</th>\n",
       "      <td>今天借明天还款可以？</td>\n",
       "      <td>今天借明天还要手续费吗</td>\n",
       "    </tr>\n",
       "  </tbody>\n",
       "</table>\n",
       "</div>"
      ],
      "text/plain": [
       "                  text1          text2\n",
       "0            为什么我无法看到额度    为什么开通了却没有额度\n",
       "1                 为啥换不了     为两次还都提示失败呢\n",
       "2     借了钱，但还没有通过，可以取消吗？           可否取消\n",
       "3  为什么我申请额度输入密码就一直是那个页面  为什么要输入支付密码来验证\n",
       "4            今天借明天还款可以？    今天借明天还要手续费吗"
      ]
     },
     "execution_count": 13,
     "metadata": {},
     "output_type": "execute_result"
    }
   ],
   "source": [
    "corpus_test_df.head()"
   ]
  },
  {
   "cell_type": "code",
   "execution_count": 14,
   "metadata": {
    "colab": {
     "base_uri": "https://localhost:8080/"
    },
    "id": "J6XkYMHSQtwa",
    "outputId": "6e10c1f1-92bb-4c03-d247-e4ef707cdd0b"
   },
   "outputs": [
    {
     "name": "stdout",
     "output_type": "stream",
     "text": [
      "<class 'pandas.core.frame.DataFrame'>\n",
      "RangeIndex: 10000 entries, 0 to 9999\n",
      "Data columns (total 2 columns):\n",
      " #   Column  Non-Null Count  Dtype \n",
      "---  ------  --------------  ----- \n",
      " 0   text1   10000 non-null  object\n",
      " 1   text2   10000 non-null  object\n",
      "dtypes: object(2)\n",
      "memory usage: 156.4+ KB\n"
     ]
    }
   ],
   "source": [
    "corpus_test_df.info()"
   ]
  },
  {
   "cell_type": "markdown",
   "metadata": {
    "id": "evdLZ4_JsZr8"
   },
   "source": [
    "**任务2：对句子对提取TFIDF以及统计特征，训练和预测**\n",
    "\n",
    "- 参考代码：https://www.kaggle.com/anokas/data-analysis-xgboost-starter-0-35460-lb\n",
    "\n",
    "- **步骤1** ：对句子对（句子A和句子B统计）如下特征：\n",
    "\n",
    "  - 句子A包含的字符个数、句子B包含的字符个数\n",
    "  - 句子A与句子B的编辑距离\n",
    "  - 句子A与句子B共有单词的个数\n",
    "  - 句子A与句子B共有字符的个数\n",
    "  - 句子A与句子B共有单词的个数 / 句子A字符个数\n",
    "  - 句子A与句子B共有单词的个数 / 句子B字符个数\n",
    "\n",
    "- **步骤2** ：计算TFIDF，并对句子A和句子B进行特征转换\n",
    "\n",
    "- **步骤3** ：计算句子A与句子B的TFIDF向量的内积距离\n",
    "\n",
    "- **步骤4** ：将上述特征送入分类模型，训练并预测，将结果预测提交到比赛网站。"
   ]
  },
  {
   "cell_type": "code",
   "execution_count": 15,
   "metadata": {
    "id": "cM3CbMmgQp9l"
   },
   "outputs": [],
   "source": [
    "import jieba\n",
    "from sklearn.feature_extraction.text import TfidfVectorizer\n",
    "\n",
    "\n",
    "def edit_distance(row):\n",
    "    s = row['text1']\n",
    "    t = row['text2']\n",
    "    m, n = len(s), len(t)\n",
    "    dist = [[0] * (n+1) for _ in range(m+1)]\n",
    "    for i in range(1, m+1):\n",
    "        dist[i][0] = i\n",
    "    for j in range(1, n+1):\n",
    "        dist[0][j] = j\n",
    "    for i in range(1, m+1):\n",
    "        for j in range(1, n+1):\n",
    "            if s[i-1] == t[j-1]:\n",
    "                dist[i][j] = dist[i-1][j-1]\n",
    "            else:\n",
    "                dist[i][j] = min(dist[i-1][j-1],\n",
    "                                 dist[i-1][j],\n",
    "                                 dist[i][j-1]) + 1\n",
    "    return dist[-1][-1]\n",
    "\n",
    "def common_word(row):\n",
    "    sset = set(row['cut_text1'].split(' '))\n",
    "    tset = set(row['cut_text2'].split(' '))\n",
    "    return len(sset & tset)\n",
    "\n",
    "def common_char(row):\n",
    "    sset = set(list(row['text1']))\n",
    "    tset = set(list(row['text2']))\n",
    "    return len(sset & tset)\n",
    "\n",
    "def cut_text(text):\n",
    "    remove_char_list = list('[·’!\"#$%&\\'()*+,-./:;<=>?@，。?★、…【】《》？“”‘’！[\\\\]^_`{|}~]+')\n",
    "    return ' '.join([word for word in jieba.cut(text) if word not in remove_char_list and word not in stopwords])\n",
    "\n",
    "def feature_extraction(df):\n",
    "    # 句子A包含的字符个数\n",
    "    df['text1_len'] = df['text1'].apply(len)\n",
    "    # 句子B包含的字符个数\n",
    "    df['text2_len'] = df['text2'].apply(len)\n",
    "    # 句子A与句子B的编辑距离\n",
    "    df['edit_distance'] = df.apply(edit_distance, axis=1)\n",
    "    # 句子A与句子B共有单词的个数\n",
    "    df['cut_text1'] = df['text1'].apply(cut_text)\n",
    "    df['cut_text2'] = df['text2'].apply(cut_text)\n",
    "    df['common_word'] = df.apply(common_word, axis=1)\n",
    "    # 句子A与句子B共有字符的个数\n",
    "    df['common_char'] = df.apply(common_char, axis=1)\n",
    "    # 句子A与句子B共有单词的个数 / 句子A字符个数\n",
    "    df['common_1'] = df.apply(lambda row: row['common_word'] / len(row['text1']), axis=1 )\n",
    "    # 句子A与句子B共有单词的个数 / 句子B字符个数\n",
    "    df['common_2'] = df.apply(lambda row: row['common_word'] / len(row['text2']), axis=1)"
   ]
  },
  {
   "cell_type": "code",
   "execution_count": 16,
   "metadata": {
    "colab": {
     "base_uri": "https://localhost:8080/"
    },
    "id": "TIxkCfuZXiMK",
    "outputId": "634c057b-a7f7-4b7f-fa31-9711c92e5272"
   },
   "outputs": [
    {
     "name": "stderr",
     "output_type": "stream",
     "text": [
      "Building prefix dict from the default dictionary ...\n",
      "Loading model from cache /tmp/jieba.cache\n",
      "Loading model cost 0.481 seconds.\n",
      "Prefix dict has been built successfully.\n"
     ]
    }
   ],
   "source": [
    "feature_extraction(corpus_train_df)\n",
    "feature_extraction(corpus_dev_df)\n",
    "feature_extraction(corpus_test_df)"
   ]
  },
  {
   "cell_type": "code",
   "execution_count": 17,
   "metadata": {
    "id": "Vjx6c8Azsp7Y"
   },
   "outputs": [],
   "source": [
    "from scipy.spatial.distance import cosine\n",
    "\n",
    "def tfidf_extraction(vec, df):\n",
    "    # 计算TFIDF，并对句子A和句子B进行特征转换\n",
    "    text1_tfidf = vec.transform(df['cut_text1'])\n",
    "    text2_tfidf = vec.transform(df['cut_text2'])\n",
    "    # 计算句子A与句子B的TFIDF向量的内积距离\n",
    "    df['tfidf_sim'] = [cosine(tfidf1.toarray(), tfidf2.toarray()) for tfidf1, tfidf2 in zip(text1_tfidf, text2_tfidf)]"
   ]
  },
  {
   "cell_type": "code",
   "execution_count": 18,
   "metadata": {
    "colab": {
     "base_uri": "https://localhost:8080/"
    },
    "id": "UGtf8pZpUHaG",
    "outputId": "660c97c7-c5f4-4cca-e1d9-79ee8afcc00d"
   },
   "outputs": [
    {
     "name": "stderr",
     "output_type": "stream",
     "text": [
      "/home/kuan/.local/lib/python3.8/site-packages/scipy/spatial/distance.py:699: RuntimeWarning: invalid value encountered in double_scalars\n",
      "  dist = 1.0 - uv / np.sqrt(uu * vv)\n"
     ]
    }
   ],
   "source": [
    "corpus_vec = TfidfVectorizer()\n",
    "train_corpus = pd.concat([corpus_train_df['cut_text1'] + corpus_train_df['cut_text2']], axis=0)\n",
    "corpus_vec.fit(train_corpus)\n",
    "\n",
    "tfidf_extraction(corpus_vec, corpus_train_df)\n",
    "tfidf_extraction(corpus_vec, corpus_dev_df)\n",
    "tfidf_extraction(corpus_vec, corpus_test_df)"
   ]
  },
  {
   "cell_type": "code",
   "execution_count": 19,
   "metadata": {
    "id": "6-MIgI7kzVWy"
   },
   "outputs": [],
   "source": [
    "corpus_train_df.fillna(0, inplace=True)\n",
    "corpus_dev_df.fillna(0, inplace=True)\n",
    "corpus_test_df.fillna(0, inplace=True)"
   ]
  },
  {
   "cell_type": "code",
   "execution_count": 20,
   "metadata": {
    "id": "5rSw9GSV7aFh"
   },
   "outputs": [],
   "source": [
    "features = ['text1_len', 'text2_len', 'edit_distance', 'common_word', 'common_char', 'common_1','common_2', 'tfidf_sim']"
   ]
  },
  {
   "cell_type": "code",
   "execution_count": 21,
   "metadata": {
    "colab": {
     "base_uri": "https://localhost:8080/"
    },
    "id": "VfydwdKn7-vy",
    "outputId": "e18cadeb-2307-415c-9da2-20a8d932737e"
   },
   "outputs": [
    {
     "name": "stdout",
     "output_type": "stream",
     "text": [
      "corpus train score: 0.68719\n",
      "corpus valid score: 0.7011\n"
     ]
    }
   ],
   "source": [
    "from sklearn.linear_model import LogisticRegression\n",
    "from sklearn.pipeline import make_pipeline\n",
    "from sklearn.preprocessing import StandardScaler\n",
    "\n",
    "pipe = make_pipeline(StandardScaler(), LogisticRegression())\n",
    "pipe.fit(corpus_train_df[features], corpus_train_df['label'])\n",
    "corpus_train_score = pipe.score(corpus_train_df[features], corpus_train_df['label'])\n",
    "corpus_val_score = pipe.score(corpus_dev_df[features], corpus_dev_df['label'])\n",
    "print('corpus train score:', corpus_train_score)\n",
    "print('corpus valid score:', corpus_val_score)"
   ]
  },
  {
   "cell_type": "code",
   "execution_count": 22,
   "metadata": {
    "id": "CxT6a3apzkHF"
   },
   "outputs": [],
   "source": [
    "corpus_pred = pipe.predict(corpus_test_df[features])"
   ]
  },
  {
   "cell_type": "code",
   "execution_count": 23,
   "metadata": {
    "id": "ug_Qd53M3Y71"
   },
   "outputs": [],
   "source": [
    "df_pred = pd.DataFrame(corpus_pred, columns=['prediction'])"
   ]
  },
  {
   "cell_type": "code",
   "execution_count": 24,
   "metadata": {
    "id": "WhHQVy9m4cVh"
   },
   "outputs": [],
   "source": [
    "df_pred.to_csv('submit/bq_corpus.tsv', index_label='index', sep='\\t')"
   ]
  },
  {
   "cell_type": "code",
   "execution_count": 25,
   "metadata": {
    "colab": {
     "base_uri": "https://localhost:8080/"
    },
    "id": "gJv65_9d64rJ",
    "outputId": "4c950d5c-9cc6-4c02-94a2-3cbc6816e62a"
   },
   "outputs": [
    {
     "name": "stderr",
     "output_type": "stream",
     "text": [
      "/home/kuan/.local/lib/python3.8/site-packages/scipy/spatial/distance.py:699: RuntimeWarning: invalid value encountered in double_scalars\n",
      "  dist = 1.0 - uv / np.sqrt(uu * vv)\n"
     ]
    }
   ],
   "source": [
    "lcqmc_train_df = pd.read_table(DataSet_Path['lcqmc']['train'], header=None)\n",
    "lcqmc_train_df.columns = Train_Data_Style\n",
    "\n",
    "lcqmc_dev_df = pd.read_table(DataSet_Path['lcqmc']['dev'], header=None)\n",
    "lcqmc_dev_df.columns = Dev_Data_Style\n",
    "\n",
    "lcqmc_test_df = pd.read_table(DataSet_Path['lcqmc']['test'], header=None)\n",
    "lcqmc_test_df.columns = Test_Data_Style\n",
    "\n",
    "feature_extraction(lcqmc_train_df)\n",
    "feature_extraction(lcqmc_dev_df)\n",
    "feature_extraction(lcqmc_test_df)\n",
    "\n",
    "lcqmc_vec = TfidfVectorizer()\n",
    "train_lcqmc = pd.concat([lcqmc_train_df['cut_text1'] + lcqmc_train_df['cut_text2']], axis=0)\n",
    "lcqmc_vec.fit(train_lcqmc)\n",
    "\n",
    "tfidf_extraction(lcqmc_vec, lcqmc_train_df)\n",
    "tfidf_extraction(lcqmc_vec, lcqmc_dev_df)\n",
    "tfidf_extraction(lcqmc_vec, lcqmc_test_df)\n",
    "\n",
    "lcqmc_train_df.fillna(0, inplace=True)\n",
    "lcqmc_dev_df.fillna(0, inplace=True)\n",
    "lcqmc_test_df.fillna(0, inplace=True)"
   ]
  },
  {
   "cell_type": "code",
   "execution_count": 26,
   "metadata": {
    "colab": {
     "base_uri": "https://localhost:8080/"
    },
    "id": "Hq5ZzmNe7vbB",
    "outputId": "8e2576ef-8be1-475a-e33c-bfe0552df265"
   },
   "outputs": [
    {
     "name": "stdout",
     "output_type": "stream",
     "text": [
      "lcqmc train score: 0.822001457493948\n",
      "lcqmc valid score: 0.6146330379459214\n"
     ]
    }
   ],
   "source": [
    "pipe = make_pipeline(StandardScaler(), LogisticRegression())\n",
    "pipe.fit(lcqmc_train_df[features], lcqmc_train_df['label'])\n",
    "lcqmc_train_score = pipe.score(lcqmc_train_df[features], lcqmc_train_df['label'])\n",
    "lcqmc_val_score = pipe.score(lcqmc_dev_df[features], lcqmc_dev_df['label'])\n",
    "print('lcqmc train score:', lcqmc_train_score)\n",
    "print('lcqmc valid score:', lcqmc_val_score)\n",
    "\n",
    "lcqmc_pred = pipe.predict(lcqmc_test_df[features])\n",
    "df_pred = pd.DataFrame(lcqmc_pred, columns=['prediction'])\n",
    "df_pred.to_csv('submit/lcqmc.tsv', index_label='index', sep='\\t')"
   ]
  },
  {
   "cell_type": "code",
   "execution_count": 27,
   "metadata": {
    "colab": {
     "base_uri": "https://localhost:8080/"
    },
    "id": "v9AumaXJ-Atb",
    "outputId": "78fb2198-9608-45f1-d616-5148a31caa60"
   },
   "outputs": [
    {
     "name": "stderr",
     "output_type": "stream",
     "text": [
      "/home/kuan/.local/lib/python3.8/site-packages/scipy/spatial/distance.py:699: RuntimeWarning: invalid value encountered in double_scalars\n",
      "  dist = 1.0 - uv / np.sqrt(uu * vv)\n"
     ]
    },
    {
     "name": "stdout",
     "output_type": "stream",
     "text": [
      "paws train score: 0.6846420112953179\n",
      "paws valid score: 0.6305\n"
     ]
    }
   ],
   "source": [
    "paws_train_df = pd.read_table(DataSet_Path['paws']['train'], header=None)\n",
    "paws_train_df.columns = Train_Data_Style\n",
    "paws_train_df['text1'] = paws_train_df['text1'].astype(str)\n",
    "paws_train_df['text2'] = paws_train_df['text2'].astype(str)\n",
    "\n",
    "paws_dev_df = pd.read_table(DataSet_Path['paws']['dev'], header=None)\n",
    "paws_dev_df.columns = Dev_Data_Style\n",
    "paws_dev_df['text1'] = paws_dev_df['text1'].astype(str)\n",
    "paws_dev_df['text2'] = paws_dev_df['text2'].astype(str)\n",
    "\n",
    "paws_test_df = pd.read_table(DataSet_Path['paws']['test'], header=None)\n",
    "paws_test_df.columns = Test_Data_Style\n",
    "paws_test_df['text1'] = paws_test_df['text1'].astype(str)\n",
    "paws_test_df['text2'] = paws_test_df['text2'].astype(str)\n",
    "\n",
    "feature_extraction(paws_train_df)\n",
    "feature_extraction(paws_dev_df)\n",
    "feature_extraction(paws_test_df)\n",
    "\n",
    "paws_vec = TfidfVectorizer()\n",
    "train_paws = pd.concat([paws_train_df['cut_text1'] + paws_train_df['cut_text2']], axis=0)\n",
    "paws_vec.fit(train_paws)\n",
    "\n",
    "tfidf_extraction(paws_vec, paws_train_df)\n",
    "tfidf_extraction(paws_vec, paws_dev_df)\n",
    "tfidf_extraction(paws_vec, paws_test_df)\n",
    "\n",
    "paws_train_df.fillna(0, inplace=True)\n",
    "paws_dev_df.fillna(0, inplace=True)\n",
    "paws_test_df.fillna(0, inplace=True)\n",
    "\n",
    "\n",
    "pipe = make_pipeline(StandardScaler(), LogisticRegression())\n",
    "pipe.fit(paws_train_df[features], paws_train_df['label'])\n",
    "paws_train_score = pipe.score(paws_train_df[features], paws_train_df['label'])\n",
    "paws_val_score = pipe.score(paws_dev_df[features], paws_dev_df['label'])\n",
    "print('paws train score:', paws_train_score)\n",
    "print('paws valid score:', paws_val_score)\n",
    "\n",
    "paws_pred = pipe.predict(paws_test_df[features])\n",
    "df_pred = pd.DataFrame(paws_pred, columns=['prediction'])\n",
    "df_pred.to_csv('submit/paws-x.tsv', index_label='index', sep='\\t')"
   ]
  },
  {
   "cell_type": "markdown",
   "metadata": {
    "id": "CzK1h7DcIWxB"
   },
   "source": [
    "**任务3：加载中文词向量，自己训练中文词向量**\n",
    "\n",
    "- **步骤1** ：使用`jieba`对中文句子进行分词\n",
    "- **步骤2** ：使用[gensim中Word2Vec](https://radimrehurek.com/gensim/models/word2vec.html)训练分词后的句子，得到词向量。"
   ]
  },
  {
   "cell_type": "code",
   "execution_count": 28,
   "metadata": {
    "id": "hQPjQZoA_5ZQ"
   },
   "outputs": [],
   "source": [
    "from gensim.models import Word2Vec\n",
    "\n",
    "class MySentences:\n",
    "    def __init__(self, data):\n",
    "        self.data = data\n",
    "    \n",
    "    def __iter__(self):\n",
    "        for sentence in self.data:\n",
    "            yield str(sentence).split()\n",
    "\n",
    "train_data = pd.concat([corpus_train_df['cut_text1'],\n",
    "                        corpus_train_df['cut_text2'], \n",
    "                        lcqmc_train_df['cut_text1'],\n",
    "                        lcqmc_train_df['cut_text2'],\n",
    "                        paws_train_df['cut_text1'],\n",
    "                        paws_train_df['cut_text2']], \n",
    "                       axis=0)\n",
    "sentences = MySentences(train_data)\n",
    "model = Word2Vec(sentences, vector_size=100, workers=-1, epochs=5)\n",
    "\n",
    "model.save('w2v.model')"
   ]
  },
  {
   "cell_type": "markdown",
   "metadata": {
    "id": "GZBQr5BYWfZ3"
   },
   "source": [
    "**任务4：使用中文词向量完成mean/max/sif句子编码**\n",
    "\n",
    "- **步骤1** ：单词通过word2vec编码为100维向量，则句子编码为N∗100的矩阵，N为句子单词个数。\n",
    "\n",
    "- **步骤2** ：将N*100的矩阵进行`max-pooling`编码，转为100维度。\n",
    "\n",
    "- **步骤3** ：将N*100的矩阵进行`mean-pooling`编码，转为100维度。\n",
    "\n",
    "- **步骤4** ：将N*100的矩阵与单词的IDF进行矩阵相乘，即按照单词的词频进行加权，进行`tfidf-pooling`编码，转为100维度。\n",
    "\n",
    "- **步骤5：**学习SIF编码的原理，进行sif编码，转为100维度。\n",
    "  - https://github.com/PrincetonML/SIF/blob/master/src/SIF_embedding.py#L30\n",
    "  - https://openreview.net/pdf?id=SyK00v5xx\n",
    "\n",
    "- **步骤6（可选）** ：通过上述步骤2-步骤5的编码，计算相似句子的相似度 vs 不相似句子的相似度， **绘制得到分布图，哪一种编码最优？**"
   ]
  },
  {
   "cell_type": "code",
   "execution_count": 31,
   "metadata": {
    "id": "AB99s-hYWe4L"
   },
   "outputs": [],
   "source": [
    "model = Word2Vec.load('w2v.model')\n",
    "\n",
    "def max_pooling(model, sentence):\n",
    "    embeddings = []\n",
    "    for word in sentence.split():\n",
    "        try:\n",
    "            embeddings.append(model.wv[word])\n",
    "        except KeyError:\n",
    "            continue\n",
    "    if len(embeddings) == 0:\n",
    "        return np.zeros((100,))\n",
    "    else:\n",
    "        return np.max(embeddings, axis=0)"
   ]
  },
  {
   "cell_type": "code",
   "execution_count": 32,
   "metadata": {
    "id": "HACwlFiXB0wi"
   },
   "outputs": [],
   "source": [
    "corpus_train_df['max_pooling1'] = corpus_train_df['cut_text1'].apply(lambda sentence: max_pooling(model, sentence))\n",
    "corpus_dev_df['max_pooling1'] = corpus_dev_df['cut_text1'].apply(lambda sentence: max_pooling(model, sentence))\n",
    "corpus_test_df['max_pooling1'] = corpus_test_df['cut_text1'].apply(lambda sentence: max_pooling(model, sentence))\n",
    "\n",
    "lcqmc_train_df['max_pooling1'] = lcqmc_train_df['cut_text1'].apply(lambda sentence: max_pooling(model, sentence))\n",
    "lcqmc_dev_df['max_pooling1'] = lcqmc_dev_df['cut_text1'].apply(lambda sentence: max_pooling(model, sentence))\n",
    "lcqmc_test_df['max_pooling1'] = lcqmc_test_df['cut_text1'].apply(lambda sentence: max_pooling(model, sentence))\n",
    "\n",
    "paws_train_df['max_pooling1'] = paws_train_df['cut_text1'].apply(lambda sentence: max_pooling(model, sentence))\n",
    "paws_dev_df['max_pooling1'] = paws_dev_df['cut_text1'].apply(lambda sentence: max_pooling(model, sentence))\n",
    "paws_test_df['max_pooling1'] = paws_test_df['cut_text1'].apply(lambda sentence: max_pooling(model, sentence))\n",
    "\n",
    "corpus_train_df['max_pooling2'] = corpus_train_df['cut_text2'].apply(lambda sentence: max_pooling(model, sentence))\n",
    "corpus_dev_df['max_pooling2'] = corpus_dev_df['cut_text2'].apply(lambda sentence: max_pooling(model, sentence))\n",
    "corpus_test_df['max_pooling2'] = corpus_test_df['cut_text2'].apply(lambda sentence: max_pooling(model, sentence))\n",
    "\n",
    "lcqmc_train_df['max_pooling2'] = lcqmc_train_df['cut_text2'].apply(lambda sentence: max_pooling(model, sentence))\n",
    "lcqmc_dev_df['max_pooling2'] = lcqmc_dev_df['cut_text2'].apply(lambda sentence: max_pooling(model, sentence))\n",
    "lcqmc_test_df['max_pooling2'] = lcqmc_test_df['cut_text2'].apply(lambda sentence: max_pooling(model, sentence))\n",
    "\n",
    "paws_train_df['max_pooling2'] = paws_train_df['cut_text2'].apply(lambda sentence: max_pooling(model, sentence))\n",
    "paws_dev_df['max_pooling2'] = paws_dev_df['cut_text2'].apply(lambda sentence: max_pooling(model, sentence))\n",
    "paws_test_df['max_pooling2'] = paws_test_df['cut_text2'].apply(lambda sentence: max_pooling(model, sentence))"
   ]
  },
  {
   "cell_type": "code",
   "execution_count": 33,
   "metadata": {
    "id": "nYyyTg0KCJHF"
   },
   "outputs": [],
   "source": [
    "def mean_pooling(model, sentence):\n",
    "    embeddings = []\n",
    "    for word in sentence.split():\n",
    "        try:\n",
    "            embeddings.append(model.wv[word])\n",
    "        except KeyError:\n",
    "            continue\n",
    "    if len(embeddings) == 0:\n",
    "        return np.zeros((100,))\n",
    "    else:\n",
    "        return np.mean(embeddings, axis=0)\n",
    "\n",
    "corpus_train_df['mean_pooling1'] = corpus_train_df['cut_text1'].apply(lambda sentence: mean_pooling(model, sentence))\n",
    "corpus_dev_df['mean_pooling1'] = corpus_dev_df['cut_text1'].apply(lambda sentence: mean_pooling(model, sentence))\n",
    "corpus_test_df['mean_pooling1'] = corpus_test_df['cut_text1'].apply(lambda sentence: mean_pooling(model, sentence))\n",
    "\n",
    "lcqmc_train_df['mean_pooling1'] = lcqmc_train_df['cut_text1'].apply(lambda sentence: mean_pooling(model, sentence))\n",
    "lcqmc_dev_df['mean_pooling1'] = lcqmc_dev_df['cut_text1'].apply(lambda sentence: mean_pooling(model, sentence))\n",
    "lcqmc_test_df['mean_pooling1'] = lcqmc_test_df['cut_text1'].apply(lambda sentence: mean_pooling(model, sentence))\n",
    "\n",
    "paws_train_df['mean_pooling1'] = paws_train_df['cut_text1'].apply(lambda sentence: mean_pooling(model, sentence))\n",
    "paws_dev_df['mean_pooling1'] = paws_dev_df['cut_text1'].apply(lambda sentence: mean_pooling(model, sentence))\n",
    "paws_test_df['mean_pooling1'] = paws_test_df['cut_text1'].apply(lambda sentence: mean_pooling(model, sentence))\n",
    "\n",
    "corpus_train_df['mean_pooling2'] = corpus_train_df['cut_text2'].apply(lambda sentence: mean_pooling(model, sentence))\n",
    "corpus_dev_df['mean_pooling2'] = corpus_dev_df['cut_text2'].apply(lambda sentence: mean_pooling(model, sentence))\n",
    "corpus_test_df['mean_pooling2'] = corpus_test_df['cut_text2'].apply(lambda sentence: mean_pooling(model, sentence))\n",
    "\n",
    "lcqmc_train_df['mean_pooling2'] = lcqmc_train_df['cut_text2'].apply(lambda sentence: mean_pooling(model, sentence))\n",
    "lcqmc_dev_df['mean_pooling2'] = lcqmc_dev_df['cut_text2'].apply(lambda sentence: mean_pooling(model, sentence))\n",
    "lcqmc_test_df['mean_pooling2'] = lcqmc_test_df['cut_text2'].apply(lambda sentence: mean_pooling(model, sentence))\n",
    "\n",
    "paws_train_df['mean_pooling2'] = paws_train_df['cut_text2'].apply(lambda sentence: mean_pooling(model, sentence))\n",
    "paws_dev_df['mean_pooling2'] = paws_dev_df['cut_text2'].apply(lambda sentence: mean_pooling(model, sentence))\n",
    "paws_test_df['mean_pooling2'] = paws_test_df['cut_text2'].apply(lambda sentence: mean_pooling(model, sentence))"
   ]
  },
  {
   "cell_type": "code",
   "execution_count": 34,
   "metadata": {
    "id": "9Nk36aieDHOx"
   },
   "outputs": [],
   "source": [
    "def tfidf_pooling(model, sentence, vec, vocab):\n",
    "    tfidf = vec.transform([sentence])\n",
    "    embeddings = []\n",
    "    weights = []\n",
    "    for idx, weight in zip(tfidf.indices, tfidf.data):\n",
    "        if idx not in vocab:\n",
    "            continue\n",
    "        word = vocab[idx]\n",
    "        try:\n",
    "            embeddings.append(model.wv[word])\n",
    "        except KeyError:\n",
    "            continue\n",
    "        weights.append(weight)\n",
    "    if len(embeddings) == 0:\n",
    "        return np.zeros((100,))\n",
    "    return np.average(embeddings, weights=weights, axis=0)"
   ]
  },
  {
   "cell_type": "code",
   "execution_count": null,
   "metadata": {
    "id": "Rl5tyVD7--ke"
   },
   "outputs": [],
   "source": [
    "corpus_vocab = corpus_vec.get_feature_names()\n",
    "lcqmc_vocab = lcqmc_vec.get_feature_names()\n",
    "paws_vocab = paws_vec.get_feature_names()\n",
    "\n",
    "corpus_train_df['tfidf_pooling1'] = corpus_train_df['cut_text1'].apply(lambda sentence: tfidf_pooling(model, sentence, corpus_vec, corpus_vocab))\n",
    "corpus_train_df['tfidf_pooling1'] = corpus_train_df['cut_text1'].apply(lambda sentence: tfidf_pooling(model, sentence, corpus_vec, corpus_vocab))\n",
    "corpus_train_df['tfidf_pooling1'] = corpus_train_df['cut_text1'].apply(lambda sentence: tfidf_pooling(model, sentence, corpus_vec, corpus_vocab))\n",
    "\n",
    "lcqmc_train_df['tfidf_pooling1'] = lcqmc_train_df['cut_text1'].apply(lambda sentence: tfidf_pooling(model, sentence, lcqmc_vec, lcqmc_vocab))\n",
    "lcqmc_train_df['tfidf_pooling1'] = lcqmc_train_df['cut_text1'].apply(lambda sentence: tfidf_pooling(model, sentence, lcqmc_vec, lcqmc_vocab))\n",
    "lcqmc_train_df['tfidf_pooling1'] = lcqmc_train_df['cut_text1'].apply(lambda sentence: tfidf_pooling(model, sentence, lcqmc_vec, lcqmc_vocab))\n",
    "\n",
    "paws_train_df['tfidf_pooling1'] = paws_train_df['cut_text1'].apply(lambda sentence: tfidf_pooling(model, sentence, paws_vec, paws_vocab))\n",
    "paws_train_df['tfidf_pooling1'] = paws_train_df['cut_text1'].apply(lambda sentence: tfidf_pooling(model, sentence, paws_vec, paws_vocab))\n",
    "paws_train_df['tfidf_pooling1'] = paws_train_df['cut_text1'].apply(lambda sentence: tfidf_pooling(model, sentence, paws_vec, paws_vocab))\n",
    "\n",
    "corpus_train_df['tfidf_pooling2'] = corpus_train_df['cut_text2'].apply(lambda sentence: tfidf_pooling(model, sentence, corpus_vec, corpus_vocab))\n",
    "corpus_train_df['tfidf_pooling2'] = corpus_train_df['cut_text2'].apply(lambda sentence: tfidf_pooling(model, sentence, corpus_vec, corpus_vocab))\n",
    "corpus_train_df['tfidf_pooling2'] = corpus_train_df['cut_text2'].apply(lambda sentence: tfidf_pooling(model, sentence, corpus_vec, corpus_vocab))\n",
    "\n",
    "lcqmc_train_df['tfidf_pooling2'] = lcqmc_train_df['cut_text2'].apply(lambda sentence: tfidf_pooling(model, sentence, lcqmc_vec, lcqmc_vocab))\n",
    "lcqmc_train_df['tfidf_pooling2'] = lcqmc_train_df['cut_text2'].apply(lambda sentence: tfidf_pooling(model, sentence, lcqmc_vec, lcqmc_vocab))\n",
    "lcqmc_train_df['tfidf_pooling2'] = lcqmc_train_df['cut_text2'].apply(lambda sentence: tfidf_pooling(model, sentence, lcqmc_vec, lcqmc_vocab))\n",
    "\n",
    "paws_train_df['tfidf_pooling2'] = paws_train_df['cut_text2'].apply(lambda sentence: tfidf_pooling(model, sentence, paws_vec, paws_vocab))\n",
    "paws_train_df['tfidf_pooling2'] = paws_train_df['cut_text2'].apply(lambda sentence: tfidf_pooling(model, sentence, paws_vec, paws_vocab))\n",
    "paws_train_df['tfidf_pooling2'] = paws_train_df['cut_text2'].apply(lambda sentence: tfidf_pooling(model, sentence, paws_vec, paws_vocab))"
   ]
  },
  {
   "cell_type": "code",
   "execution_count": null,
   "metadata": {
    "id": "u0dJnlsU_C2M"
   },
   "outputs": [],
   "source": [
    "corpus_train_df.to_csv('data/bq_corpus/train_feature.tsv', sep='\\t', index=False)\n",
    "corpus_dev_df.to_csv('data/bq_corpus/dev_feature.tsv', sep='\\t', index=False)\n",
    "corpus_test_df.to_csv('data/bq_corpus/test_feature.tsv', sep='\\t', index=False)\n",
    "\n",
    "lcqmc_train_df.to_csv('data/lcqmc/train_feature.tsv', sep='\\t', index=False)\n",
    "lcqmc_dev_df.to_csv('data/lcqmc/dev_feature.tsv', sep='\\t', index=False)\n",
    "lcqmc_test_df.to_csv('data/lcqmc/test_feature.tsv', sep='\\t', index=False)\n",
    "\n",
    "paws_train_df.to_csv('data/paws-x-zh/train_feature.tsv', sep='\\t', index=False)\n",
    "paws_dev_df.to_csv('data/paws-x-zh/dev_feature.tsv', sep='\\t', index=False)\n",
    "paws_test_df.to_csv('data/paws-x-zh/test_feature.tsv', sep='\\t', index=False)"
   ]
  },
  {
   "cell_type": "markdown",
   "metadata": {},
   "source": [
    "**步骤6（可选）** ：通过上述步骤2-步骤5的编码，计算相似句子的相似度 vs 不相似句子的相似度， **绘制得到分布图，哪一种编码最优？**"
   ]
  },
  {
   "cell_type": "code",
   "execution_count": 3,
   "metadata": {},
   "outputs": [],
   "source": [
    "import pandas as pd\n",
    "import numpy as np\n",
    "\n",
    "def converter(instr):\n",
    "    return np.fromstring(instr[1:-1],sep=' ')\n",
    "convert_cols = ['mean_pooling1', 'mean_pooling2', 'max_pooling1', 'max_pooling2','tfidf_pooling1', 'tfidf_pooling2']\n",
    "\n",
    "corpus_train_df = pd.read_csv('data/bq_corpus/train_feature.tsv', sep='\\t', \n",
    "                              converters={col: converter for col in convert_cols})\n",
    "corpus_dev_df = pd.read_csv('data/bq_corpus/dev_feature.tsv', sep='\\t',\n",
    "                              converters={col: converter for col in convert_cols})\n",
    "corpus_test_df = pd.read_csv('data/bq_corpus/test_feature.tsv', sep='\\t',\n",
    "                              converters={col: converter for col in convert_cols})"
   ]
  },
  {
   "cell_type": "code",
   "execution_count": 49,
   "metadata": {},
   "outputs": [],
   "source": [
    "from scipy.spatial.distance import cosine\n",
    "\n",
    "def sim_calc(df):\n",
    "    df['wv_mean_sim'] = [(1-cosine(vec1, vec2))/2 for vec1, vec2 in zip(df['mean_pooling1'], df['mean_pooling2'])]\n",
    "    df['wv_max_sim'] = [(1-cosine(vec1, vec2))/2 for vec1, vec2 in zip(df['max_pooling1'], df['max_pooling2'])]\n"
   ]
  },
  {
   "cell_type": "code",
   "execution_count": 50,
   "metadata": {},
   "outputs": [
    {
     "name": "stderr",
     "output_type": "stream",
     "text": [
      "/home/kuan/.local/lib/python3.8/site-packages/scipy/spatial/distance.py:699: RuntimeWarning: invalid value encountered in double_scalars\n",
      "  dist = 1.0 - uv / np.sqrt(uu * vv)\n"
     ]
    }
   ],
   "source": [
    "sim_calc(corpus_train_df)\n",
    "sim_calc(corpus_dev_df)\n",
    "sim_calc(corpus_test_df)"
   ]
  },
  {
   "cell_type": "code",
   "execution_count": 51,
   "metadata": {},
   "outputs": [
    {
     "data": {
      "image/png": "[encoded data removed]",
      "text/plain": [
       "<Figure size 432x288 with 1 Axes>"
      ]
     },
     "metadata": {
      "needs_background": "light"
     },
     "output_type": "display_data"
    },
    {
     "data": {
      "image/png": "[encoded data removed]",
      "text/plain": [
       "<Figure size 432x288 with 1 Axes>"
      ]
     },
     "metadata": {
      "needs_background": "light"
     },
     "output_type": "display_data"
    }
   ],
   "source": [
    "import matplotlib.pyplot as plt\n",
    "\n",
    "mean_1 = corpus_train_df[corpus_train_df['label'] == 1]['wv_mean_sim'].mean()\n",
    "mean_0 = corpus_train_df[corpus_train_df['label'] == 0]['wv_mean_sim'].mean()\n",
    "corpus_train_df[corpus_train_df['label'] == 1]['wv_mean_sim'].plot.hist(bins=20, alpha=0.5, label=f'1: {mean_1:.4f}')\n",
    "corpus_train_df[corpus_train_df['label'] == 0]['wv_mean_sim'].plot.hist(bins=20, alpha=0.5, label=f'0: {mean_0:.4f}')\n",
    "plt.title('mean pooling similarity')\n",
    "plt.legend()\n",
    "plt.show()\n",
    "\n",
    "mean_1 = corpus_train_df[corpus_train_df['label'] == 1]['wv_max_sim'].mean()\n",
    "mean_0 = corpus_train_df[corpus_train_df['label'] == 0]['wv_max_sim'].mean()\n",
    "corpus_train_df[corpus_train_df['label'] == 1]['wv_max_sim'].plot.hist(bins=20, alpha=0.5, label=f'1: {mean_1:.4f}')\n",
    "corpus_train_df[corpus_train_df['label'] == 0]['wv_max_sim'].plot.hist(bins=20, alpha=0.5, label=f'0: {mean_0:.4f}')\n",
    "plt.title('max pooling similarity')\n",
    "plt.legend()\n",
    "plt.show()\n"
   ]
  },
  {
   "cell_type": "code",
   "execution_count": 110,
   "metadata": {},
   "outputs": [
    {
     "data": {
      "text/plain": [
       "<AxesSubplot:ylabel='Frequency'>"
      ]
     },
     "execution_count": 110,
     "metadata": {},
     "output_type": "execute_result"
    },
    {
     "data": {
      "image/png": "[encoded data removed]",
      "text/plain": [
       "<Figure size 432x288 with 1 Axes>"
      ]
     },
     "metadata": {
      "needs_background": "light"
     },
     "output_type": "display_data"
    }
   ],
   "source": [
    "corpus_dev_df['cut_text2'].apply(lambda x: len(str(x).split())).plot.hist(bins=20)"
   ]
  },
  {
   "cell_type": "markdown",
   "metadata": {},
   "source": [
    "**任务5：搭建SiamCNN/LSTM模型，训练和预测**\n",
    "\n",
    "- **步骤1** ：将训练好的word2vec作为深度学习embeeding层的初始化参数。\n",
    "- **步骤2** ：搭建SiamCNN（Word2Vec句子编码 + 1D CNN +FC）的孪生网络结构，完成训练和预测，提交测试集预测结果。\n",
    "- **步骤3** ：搭建SiamLSTM（Word2Vec句子编码 + LSTM + FC）的孪生网络结构，完成训练和预测，提交测试集预测结果。"
   ]
  },
  {
   "cell_type": "code",
   "execution_count": 134,
   "metadata": {},
   "outputs": [],
   "source": [
    "import pandas as pd \n",
    "import numpy as np\n",
    "\n",
    "def converter(instr):\n",
    "    return np.fromstring(instr[1:-1],sep=' ')\n",
    "convert_cols = ['mean_pooling1', 'mean_pooling2', 'max_pooling1', 'max_pooling2','tfidf_pooling1', 'tfidf_pooling2']\n",
    "\n",
    "corpus_train_df = pd.read_csv('data/bq_corpus/train_feature.tsv', sep='\\t', \n",
    "                              converters={col: converter for col in convert_cols})\n",
    "corpus_dev_df = pd.read_csv('data/bq_corpus/dev_feature.tsv', sep='\\t',\n",
    "                              converters={col: converter for col in convert_cols})\n",
    "corpus_test_df = pd.read_csv('data/bq_corpus/test_feature.tsv', sep='\\t',\n",
    "                              converters={col: converter for col in convert_cols})\n",
    "\n",
    "lcqmc_train_df = pd.read_csv('data/lcqmc/train_feature.tsv', sep='\\t', \n",
    "                              converters={col: converter for col in convert_cols})\n",
    "lcqmc_dev_df = pd.read_csv('data/lcqmc/dev_feature.tsv', sep='\\t',\n",
    "                              converters={col: converter for col in convert_cols})\n",
    "lcqmc_test_df = pd.read_csv('data/lcqmc/test_feature.tsv', sep='\\t',\n",
    "                              converters={col: converter for col in convert_cols})\n",
    "\n",
    "paws_train_df = pd.read_csv('data/paws-x-zh/train_feature.tsv', sep='\\t', \n",
    "                              converters={col: converter for col in convert_cols})\n",
    "paws_dev_df = pd.read_csv('data/paws-x-zh/dev_feature.tsv', sep='\\t',\n",
    "                              converters={col: converter for col in convert_cols})\n",
    "paws_test_df = pd.read_csv('data/paws-x-zh/test_feature.tsv', sep='\\t',\n",
    "                              converters={col: converter for col in convert_cols})"
   ]
  },
  {
   "cell_type": "code",
   "execution_count": 135,
   "metadata": {},
   "outputs": [],
   "source": [
    "train_df = pd.concat([corpus_train_df[['cut_text1', 'cut_text2', 'label']],\n",
    "                      lcqmc_train_df[['cut_text1', 'cut_text2', 'label']],\n",
    "                      paws_train_df[['cut_text1', 'cut_text2', 'label']]], axis=0)\n",
    "dev_df = pd.concat([corpus_dev_df[['cut_text1', 'cut_text2', 'label']],\n",
    "                      lcqmc_dev_df[['cut_text1', 'cut_text2', 'label']],\n",
    "                      paws_dev_df[['cut_text1', 'cut_text2', 'label']]], axis=0)\n",
    "del corpus_train_df\n",
    "del corpus_dev_df\n",
    "del lcqmc_train_df\n",
    "del lcqmc_dev_df\n",
    "del paws_train_df\n",
    "del paws_dev_df"
   ]
  },
  {
   "cell_type": "code",
   "execution_count": 136,
   "metadata": {},
   "outputs": [],
   "source": [
    "import gensim\n",
    "import torch\n",
    "import torch.nn as nn\n",
    "\n",
    "model = gensim.models.Word2Vec.load('w2v.model')\n",
    "weights = torch.FloatTensor(model.wv.vectors)\n",
    "config = {'embedding_size': 100,\n",
    "          'feature_size': 100,\n",
    "          'window_sizes': [2, 3, 4],\n",
    "          'num_layers': 2,\n",
    "          'hidden_size': 64,\n",
    "          'max_len': 25}\n",
    "\n",
    "unk_idx = len(model.wv.key_to_index)\n",
    "pad_idx = unk_idx + 1\n",
    "\n",
    "model.wv.key_to_index['<UNK>'] = unk_idx\n",
    "model.wv.key_to_index['<PAD>'] = pad_idx\n",
    "\n",
    "model.wv.index_to_key.extend(['<UNK>', '<PAD>'])\n",
    "\n",
    "weights = torch.FloatTensor(np.concatenate((model.wv.vectors, np.zeros((2, 100))), axis=0))\n",
    "\n",
    "config['vocab_size'] = len(model.wv.key_to_index)"
   ]
  },
  {
   "cell_type": "code",
   "execution_count": 137,
   "metadata": {},
   "outputs": [],
   "source": [
    "batch_size = 64"
   ]
  },
  {
   "cell_type": "code",
   "execution_count": 138,
   "metadata": {},
   "outputs": [],
   "source": [
    "from torch.utils.data import DataLoader, Dataset\n",
    "\n",
    "class MyDataset(Dataset):\n",
    "    def __init__(self, model, df, train=True):\n",
    "        self.model = model\n",
    "        self.df = df\n",
    "        self.train = train\n",
    "        \n",
    "    def __len__(self):\n",
    "        return len(self.df)\n",
    "    \n",
    "    def __getitem__(self, idx):\n",
    "        text1 = str(self.df.iloc[idx]['cut_text1']).split()\n",
    "        text2 = str(self.df.iloc[idx]['cut_text2']).split()\n",
    "        out1 = [self.model.wv.key_to_index.get(t1, unk_idx) for t1 in text1]\n",
    "        out2 = [self.model.wv.key_to_index.get(t2, unk_idx) for t2 in text2]\n",
    "        len1 = min(len(text1), max_len)\n",
    "        len2 = min(len(text2), max_len)\n",
    "        if len(out1) > max_len:\n",
    "            out1 = out1[:max_len]\n",
    "        else:\n",
    "            out1 += [pad_idx] * (max_len - len(out1))\n",
    "        if len(out2) > max_len:\n",
    "            out2 = out2[:max_len]\n",
    "        else:\n",
    "            out2 += [pad_idx] * (max_len - len(out2))\n",
    "            \n",
    "        if self.train:\n",
    "            return torch.tensor(out1), torch.tensor(out2), len1, len2, torch.tensor(self.df.iloc[idx]['label'])\n",
    "        \n",
    "        return torch.tensor(out1), torch.tensor(out2), len1, len2"
   ]
  },
  {
   "cell_type": "code",
   "execution_count": 139,
   "metadata": {},
   "outputs": [],
   "source": [
    "train_ds = MyDataset(model, train_df)\n",
    "dev_ds = MyDataset(model, dev_df)\n",
    "\n",
    "corpus_test_ds = MyDataset(model, corpus_test_df, train=False)\n",
    "lcqmc_test_ds = MyDataset(model, lcqmc_test_df, train=False)\n",
    "paws_test_ds = MyDataset(model, paws_test_df, train=False)\n",
    "\n",
    "train_dl = DataLoader(train_ds, batch_size=batch_size, shuffle=True)\n",
    "dev_dl = DataLoader(dev_ds, batch_size=batch_size, shuffle=True)\n",
    "\n",
    "corpus_test_dl = DataLoader(corpus_test_ds, batch_size=batch_size, shuffle=False)\n",
    "lcqmc_test_dl = DataLoader(lcqmc_test_ds, batch_size=batch_size, shuffle=False)\n",
    "paws_test_dl = DataLoader(paws_test_ds, batch_size=batch_size, shuffle=False)"
   ]
  },
  {
   "cell_type": "code",
   "execution_count": 140,
   "metadata": {},
   "outputs": [],
   "source": [
    "from datetime import datetime\n",
    "\n",
    "def printbar():\n",
    "    nowtime = datetime.now()\n",
    "    print('========' * 8 + nowtime.strftime('%H:%M:%S'))"
   ]
  },
  {
   "cell_type": "code",
   "execution_count": 141,
   "metadata": {},
   "outputs": [],
   "source": [
    "class SiamCNN(nn.Module):\n",
    "    def __init__(self, config):\n",
    "        super(SiamCNN, self).__init__()\n",
    "        self.embedding = nn.Embedding(config['vocab_size'], config['embedding_size'], padding_idx=pad_idx)\n",
    "        self.convs = nn.ModuleList([\n",
    "            nn.Sequential(nn.Conv2d(1, config['feature_size'], (kernel_size, config['embedding_size'])),\n",
    "                          nn.LeakyReLU(inplace=True),\n",
    "                          nn.AdaptiveAvgPool2d(1))\n",
    "            for kernel_size in config['window_sizes']\n",
    "        ])\n",
    "    \n",
    "        self.fc = nn.Sequential(nn.Linear(config['feature_size'] * len(config['window_sizes']), 100),\n",
    "                                nn.Dropout(0.5),\n",
    "                                nn.ReLU(inplace=True),\n",
    "                                nn.Linear(100, 16))\n",
    "        \n",
    "        self.clf = nn.Sequential(nn.Linear(64, 16), nn.ReLU(inplace=True), nn.Linear(16, 2))\n",
    "        \n",
    "    def forward_once(self, x):\n",
    "        embed = self.embedding(x) # [batch_size, seq_len, embedding_size]\n",
    "        embed.unsqueeze_(1)\n",
    "        conv_out = [conv(embed) for conv in self.convs]\n",
    "        out = torch.cat(conv_out, dim=1)\n",
    "        out = out.view(x.size(0), -1)\n",
    "        return self.fc(out)\n",
    "    \n",
    "    def cross_layer(self, x1, x2):\n",
    "        f1 = torch.mul(x1, x2)\n",
    "        f2 = torch.abs(x1 - x2)\n",
    "        return torch.cat([x1, x2, f1, f2], axis=1)\n",
    "    \n",
    "    def forward(self, x1, x2):\n",
    "        out1 = self.forward_once(x1)\n",
    "        out2 = self.forward_once(x2)\n",
    "        cross_feature = self.cross_layer(out1, out2)\n",
    "        out = self.clf(cross_feature)\n",
    "        return out"
   ]
  },
  {
   "cell_type": "code",
   "execution_count": 142,
   "metadata": {},
   "outputs": [],
   "source": [
    "siamcnn = SiamCNN(config)\n",
    "loss_fn = nn.CrossEntropyLoss()\n",
    "optimizer = torch.optim.Adam(siamcnn.parameters(), lr=1e-3)\n",
    "\n",
    "\n",
    "def train(net, epochs, loss_fn, train_dl, valid_dl, optimizer, rnn=False):\n",
    "    net.train()\n",
    "    printbar()\n",
    "    print('Start Training...')\n",
    "    total_train_loss = []\n",
    "    total_valid_loss = []\n",
    "    for epoch in range(epochs):\n",
    "        epoch_train_loss = 0\n",
    "        count = 0\n",
    "        for x1, x2, len1, len2, y in train_dl:\n",
    "            optimizer.zero_grad()\n",
    "            if rnn == True:\n",
    "                y_out = net(x1, x2, len1, len2)\n",
    "            else:\n",
    "                y_out = net(x1, x2)\n",
    "            loss = loss_fn(y_out, y)\n",
    "            loss.backward()\n",
    "            optimizer.step()\n",
    "            epoch_train_loss += loss.item()\n",
    "            y_pred = torch.max(y_out, 1)[1]\n",
    "            count += (y_pred.numpy() == y.numpy()).mean()\n",
    "        train_acc = count / len(train_dl)\n",
    "        train_loss = epoch_train_loss / len(train_dl)\n",
    "        valid_loss, valid_acc = evaluate(net, loss_fn, valid_dl, rnn)\n",
    "        printbar()\n",
    "        print(f'Epoch: {epoch+1}, train loss: {train_loss:.4f}, valid loss: {valid_loss:.4f}, train_acc: {train_acc:.4f}, valid_acc: {valid_acc:.4f}')\n",
    "        total_train_loss.append(train_loss)\n",
    "        total_valid_loss.append(valid_loss)\n",
    "    return total_train_loss, total_valid_loss\n",
    "\n",
    "def evaluate(net, loss_fn, valid_dl, rnn):\n",
    "    net.eval()\n",
    "    valid_loss = 0\n",
    "    count = 0\n",
    "    with torch.no_grad():\n",
    "        for x1, x2, len1, len2, y in valid_dl:\n",
    "            if rnn == True:\n",
    "                y_out = net(x1, x2, len1, len2)\n",
    "            else:\n",
    "                y_out = net(x1, x2)\n",
    "            loss = loss_fn(y_out, y)\n",
    "            valid_loss += loss.item()\n",
    "            y_pred = torch.max(y_out, 1)[1]\n",
    "            count += (y_pred.numpy() == y.numpy()).mean()\n",
    "    return valid_loss / len(valid_dl), count / len(valid_dl)"
   ]
  },
  {
   "cell_type": "code",
   "execution_count": 143,
   "metadata": {},
   "outputs": [],
   "source": [
    "import pandas as pd \n",
    "\n",
    "def predict(net, test_dl, rnn=False):\n",
    "    y_pred = []\n",
    "    for x1, x2, len1, len2 in test_dl:\n",
    "        if rnn == True:\n",
    "            y_out = net(x1, x2, len1, len2)\n",
    "        else:\n",
    "            y_out = net(x1, x2)\n",
    "        y_pred.extend(torch.max(y_out, 1)[1].tolist())\n",
    "    return y_pred"
   ]
  },
  {
   "cell_type": "code",
   "execution_count": 144,
   "metadata": {},
   "outputs": [
    {
     "name": "stdout",
     "output_type": "stream",
     "text": [
      "================================================================17:37:51\n",
      "Start Training...\n",
      "================================================================17:47:08\n",
      "Epoch: 1, train loss: 0.5808, valid loss: 0.6600, train_acc: 0.6927, valid_acc: 0.6529\n",
      "================================================================17:55:48\n",
      "Epoch: 2, train loss: 0.4588, valid loss: 0.5962, train_acc: 0.7784, valid_acc: 0.6947\n",
      "================================================================18:04:24\n",
      "Epoch: 3, train loss: 0.3901, valid loss: 0.6039, train_acc: 0.8211, valid_acc: 0.7098\n",
      "================================================================18:12:59\n",
      "Epoch: 4, train loss: 0.3358, valid loss: 0.6026, train_acc: 0.8521, valid_acc: 0.7284\n",
      "================================================================18:21:34\n",
      "Epoch: 5, train loss: 0.2883, valid loss: 0.6404, train_acc: 0.8774, valid_acc: 0.7249\n",
      "================================================================18:30:09\n",
      "Epoch: 6, train loss: 0.2483, valid loss: 0.6595, train_acc: 0.8973, valid_acc: 0.7252\n",
      "================================================================18:38:44\n",
      "Epoch: 7, train loss: 0.2156, valid loss: 0.7082, train_acc: 0.9129, valid_acc: 0.7245\n",
      "================================================================18:47:20\n",
      "Epoch: 8, train loss: 0.1898, valid loss: 0.7412, train_acc: 0.9246, valid_acc: 0.7263\n",
      "================================================================18:55:56\n",
      "Epoch: 9, train loss: 0.1691, valid loss: 0.8207, train_acc: 0.9329, valid_acc: 0.7272\n",
      "================================================================19:04:32\n",
      "Epoch: 10, train loss: 0.1510, valid loss: 0.8996, train_acc: 0.9407, valid_acc: 0.7257\n"
     ]
    }
   ],
   "source": [
    "epochs = 10\n",
    "train_loss, valid_loss = train(siamcnn, epochs, loss_fn, train_dl, dev_dl, optimizer)"
   ]
  },
  {
   "cell_type": "code",
   "execution_count": 145,
   "metadata": {},
   "outputs": [],
   "source": [
    "torch.save(siamcnn.state_dict, 'siamcnn.model')"
   ]
  },
  {
   "cell_type": "code",
   "execution_count": 146,
   "metadata": {},
   "outputs": [],
   "source": [
    "corpus_pred_cnn = predict(siamcnn, corpus_test_dl)\n",
    "lcqmc_pred_cnn = predict(siamcnn, lcqmc_test_dl)\n",
    "paws_pred_cnn = predict(siamcnn, paws_test_dl)"
   ]
  },
  {
   "cell_type": "code",
   "execution_count": 147,
   "metadata": {},
   "outputs": [],
   "source": [
    "pd.DataFrame(corpus_pred_cnn, columns=['prediction']).to_csv('submit/siamcnn/bq_corpus.tsv', sep='\\t', index_label='index')\n",
    "pd.DataFrame(lcqmc_pred_cnn, columns=['prediction']).to_csv('submit/siamcnn/lcqmc.tsv', sep='\\t', index_label='index')\n",
    "pd.DataFrame(paws_pred_cnn, columns=['prediction']).to_csv('submit/siamcnn/paws-x.tsv', sep='\\t', index_label='index')"
   ]
  },
  {
   "cell_type": "code",
   "execution_count": 148,
   "metadata": {},
   "outputs": [],
   "source": [
    "import matplotlib.pyplot as plt \n",
    "\n",
    "def plot_loss(train_loss, valid_loss, title):\n",
    "    plt.plot(train_loss, label='train loss')\n",
    "    plt.plot(valid_loss, label='valid loss')\n",
    "    plt.plot(title=title)\n",
    "    plt.xlabel('epoch')\n",
    "    plt.legend()\n",
    "    plt.show()"
   ]
  },
  {
   "cell_type": "code",
   "execution_count": 149,
   "metadata": {},
   "outputs": [
    {
     "data": {
      "image/png": "[encoded data removed]",
      "text/plain": [
       "<Figure size 432x288 with 1 Axes>"
      ]
     },
     "metadata": {
      "needs_background": "light"
     },
     "output_type": "display_data"
    }
   ],
   "source": [
    "plot_loss(train_loss, valid_loss, 'loss')"
   ]
  },
  {
   "cell_type": "code",
   "execution_count": 150,
   "metadata": {},
   "outputs": [],
   "source": [
    "class SiamGRU(nn.Module):\n",
    "    def __init__(self, config):\n",
    "        super(SiamGRU, self).__init__()\n",
    "        self.embedding = nn.Embedding(config['vocab_size'], \n",
    "                                      config['embedding_size'], \n",
    "                                      padding_idx=pad_idx)\n",
    "        \n",
    "        self.gru = nn.GRU(config['embedding_size'], \n",
    "                          config['hidden_size'],\n",
    "                          num_layers=config['num_layers'], \n",
    "                          bidirectional=True,\n",
    "                          batch_first=True, \n",
    "                          dropout=0.5)\n",
    "    \n",
    "        self.clf = nn.Sequential(nn.Linear(8 * config['hidden_size'], config['hidden_size']),\n",
    "                                 nn.ReLU(inplace=True),\n",
    "                                 nn.Dropout(0.5),\n",
    "                                 nn.Linear(config['hidden_size'], 2))\n",
    "        \n",
    "    def cross_layer(self, x1, x2):\n",
    "        f1 = torch.mul(x1, x2)\n",
    "        f2 = torch.abs(x1 - x2)\n",
    "        return torch.cat([x1, x2, f1, f2], axis=1)\n",
    "    \n",
    "    def forward_once(self, x, text_len):\n",
    "        embed = self.embedding(x)\n",
    "        output, _ = self.gru(embed) # batch_size, seq_len, 2 * hidden_size\n",
    "        avg_out = torch.mean(output, 1)\n",
    "        return avg_out\n",
    "        \n",
    "    def forward(self, x1, x2, text_len1, text_len2):\n",
    "        out1 = self.forward_once(x1, text_len1)\n",
    "        out2 = self.forward_once(x2, text_len2)\n",
    "        cross_features = self.cross_layer(out1, out2)\n",
    "        out = self.clf(cross_features)\n",
    "        return out"
   ]
  },
  {
   "cell_type": "code",
   "execution_count": 151,
   "metadata": {},
   "outputs": [
    {
     "name": "stdout",
     "output_type": "stream",
     "text": [
      "================================================================19:04:42\n",
      "Start Training...\n",
      "================================================================19:17:39\n",
      "Epoch: 1, train loss: 0.4959, valid loss: 0.6117, train_acc: 0.7611, valid_acc: 0.7076\n",
      "================================================================19:30:34\n",
      "Epoch: 2, train loss: 0.3795, valid loss: 0.5438, train_acc: 0.8324, valid_acc: 0.7317\n",
      "================================================================19:43:29\n",
      "Epoch: 3, train loss: 0.3078, valid loss: 0.5728, train_acc: 0.8697, valid_acc: 0.7462\n",
      "================================================================19:57:10\n",
      "Epoch: 4, train loss: 0.2528, valid loss: 0.6055, train_acc: 0.8958, valid_acc: 0.7466\n",
      "================================================================20:11:38\n",
      "Epoch: 5, train loss: 0.2099, valid loss: 0.6458, train_acc: 0.9162, valid_acc: 0.7459\n",
      "================================================================20:26:08\n",
      "Epoch: 6, train loss: 0.1781, valid loss: 0.6741, train_acc: 0.9294, valid_acc: 0.7469\n",
      "================================================================20:40:13\n",
      "Epoch: 7, train loss: 0.1553, valid loss: 0.7306, train_acc: 0.9386, valid_acc: 0.7532\n",
      "================================================================20:53:09\n",
      "Epoch: 8, train loss: 0.1385, valid loss: 0.8012, train_acc: 0.9451, valid_acc: 0.7484\n",
      "================================================================21:06:02\n",
      "Epoch: 9, train loss: 0.1260, valid loss: 0.8637, train_acc: 0.9502, valid_acc: 0.7487\n",
      "================================================================21:20:00\n",
      "Epoch: 10, train loss: 0.1164, valid loss: 0.8967, train_acc: 0.9539, valid_acc: 0.7461\n"
     ]
    }
   ],
   "source": [
    "epochs = 10\n",
    "loss_fn = nn.CrossEntropyLoss()\n",
    "siamgru = SiamGRU(config)\n",
    "optimizer = torch.optim.Adam(siamgru.parameters(), lr=1e-3)\n",
    "\n",
    "train_loss, valid_loss = train(siamgru, epochs, loss_fn, train_dl, dev_dl, optimizer, rnn=True)"
   ]
  },
  {
   "cell_type": "code",
   "execution_count": 153,
   "metadata": {},
   "outputs": [],
   "source": [
    "corpus_pred_gru = predict(siamgru, corpus_test_dl, rnn=True)\n",
    "lcqmc_pred_gru = predict(siamgru, lcqmc_test_dl, rnn=True)\n",
    "paws_pred_gru = predict(siamgru, paws_test_dl, rnn=True)\n",
    "\n",
    "pd.DataFrame(corpus_pred_gru, columns=['prediction']).to_csv('submit/siamgru/bq_corpus.tsv', sep='\\t', index_label='index')\n",
    "pd.DataFrame(lcqmc_pred_gru, columns=['prediction']).to_csv('submit/siamgru/lcqmc.tsv', sep='\\t', index_label='index')\n",
    "pd.DataFrame(paws_pred_gru, columns=['prediction']).to_csv('submit/siamgru/paws-x.tsv', sep='\\t', index_label='index')"
   ]
  },
  {
   "cell_type": "code",
   "execution_count": 154,
   "metadata": {},
   "outputs": [],
   "source": [
    "torch.save(siamgru.state_dict, 'siamgru.model')"
   ]
  },
  {
   "cell_type": "markdown",
   "metadata": {},
   "source": [
    "**任务6：搭建InferSent模型，训练和预测**\n",
    "\n",
    "- **步骤1** ：将训练好的word2vex作为深度学习embeeding层的初始化参数。\n",
    "- **步骤2** ：搭建InferSent模型，尝试不同的交叉方法。\n",
    "- **步骤3** ：训练InferSent模型，提交测试集预测结果。"
   ]
  },
  {
   "cell_type": "code",
   "execution_count": 155,
   "metadata": {},
   "outputs": [],
   "source": [
    "class InferSent(nn.Module):\n",
    "    def __init__(self, config):\n",
    "        super(InferSent, self).__init__()\n",
    "        self.embedding = nn.Embedding(len(model.wv.key_to_index), config['embedding_size'], padding_idx=pad_idx)\n",
    "        self.lstm = nn.LSTM(config['embedding_size'],\n",
    "                          config['hidden_size'],\n",
    "                          num_layers=config['num_layers'],\n",
    "                          bidirectional=True,\n",
    "                          batch_first=True,\n",
    "                          dropout=0.5)\n",
    "        self.fc = nn.Sequential(nn.Linear(config['hidden_size'] * 8, config['hidden_size']),\n",
    "                                nn.Dropout(0.5),\n",
    "                                nn.ReLU(),\n",
    "                                nn.Linear(config['hidden_size'], 2))\n",
    "    \n",
    "    def cross_layer(self, x1, x2):\n",
    "        f1 = torch.mul(x1, x2)\n",
    "        f2 = torch.abs(x1 - x2)\n",
    "        return torch.cat([x1, x2, f1, f2], axis=1)\n",
    "    \n",
    "    def forward_once(self, x, text_len):\n",
    "        embed = self.embedding(x) \n",
    "        output, _ = self.lstm(embed) \n",
    "        sent_embed = torch.sum(output, axis=1) \n",
    "        text_len = text_len.unsqueeze(1)\n",
    "        pooled = sent_embed / text_len.expand_as(sent_embed)\n",
    "        return pooled\n",
    "        \n",
    "    def forward(self, x1, x2, len1, len2):\n",
    "        out1 = self.forward_once(x1, len1)\n",
    "        out2 = self.forward_once(x2, len2)\n",
    "        cross_feature = self.cross_layer(out1, out2)\n",
    "        out = self.fc(cross_feature)\n",
    "        return out\n",
    "    "
   ]
  },
  {
   "cell_type": "code",
   "execution_count": 156,
   "metadata": {},
   "outputs": [
    {
     "name": "stdout",
     "output_type": "stream",
     "text": [
      "================================================================21:21:49\n",
      "Start Training...\n",
      "================================================================21:35:56\n",
      "Epoch: 1, train loss: 0.5741, valid loss: 0.7593, train_acc: 0.7027, valid_acc: 0.6514\n",
      "================================================================21:50:37\n",
      "Epoch: 2, train loss: 0.4491, valid loss: 0.6188, train_acc: 0.7911, valid_acc: 0.6971\n",
      "================================================================22:04:55\n",
      "Epoch: 3, train loss: 0.4320, valid loss: 0.6170, train_acc: 0.8014, valid_acc: 0.6937\n",
      "================================================================22:20:12\n",
      "Epoch: 4, train loss: 0.4255, valid loss: 0.6073, train_acc: 0.8058, valid_acc: 0.6967\n",
      "================================================================22:37:17\n",
      "Epoch: 5, train loss: 0.4218, valid loss: 0.6022, train_acc: 0.8073, valid_acc: 0.6954\n",
      "================================================================22:55:52\n",
      "Epoch: 6, train loss: 0.4203, valid loss: 0.6321, train_acc: 0.8083, valid_acc: 0.6956\n",
      "================================================================23:15:28\n",
      "Epoch: 7, train loss: 0.4202, valid loss: 0.6145, train_acc: 0.8082, valid_acc: 0.6964\n",
      "================================================================23:36:26\n",
      "Epoch: 8, train loss: 0.4222, valid loss: 0.6312, train_acc: 0.8069, valid_acc: 0.6920\n",
      "================================================================23:57:26\n",
      "Epoch: 9, train loss: 0.4218, valid loss: 0.6188, train_acc: 0.8066, valid_acc: 0.6921\n",
      "================================================================00:20:13\n",
      "Epoch: 10, train loss: 0.4220, valid loss: 0.6127, train_acc: 0.8072, valid_acc: 0.6903\n"
     ]
    }
   ],
   "source": [
    "epochs = 10\n",
    "loss_fn = nn.CrossEntropyLoss()\n",
    "infersent = InferSent(config)\n",
    "optimizer = torch.optim.Adam(infersent.parameters(), lr=1e-2)\n",
    "\n",
    "train_loss, valid_loss = train(infersent, epochs, loss_fn, train_dl, dev_dl, optimizer, rnn=True)"
   ]
  },
  {
   "cell_type": "code",
   "execution_count": 157,
   "metadata": {},
   "outputs": [],
   "source": [
    "torch.save(infersent.state_dict, 'infersent.model')"
   ]
  },
  {
   "cell_type": "markdown",
   "metadata": {},
   "source": [
    "**任务7：搭建ESIM模型，训练和预测**\n",
    "\n",
    "- **步骤1** ：将训练好的word2vec作为深度学习embeeding层的初始化参数。\n",
    "- **步骤2** ：搭建ESIM模型，尝试不同的交叉方法。\n",
    "- **步骤3** ：训练ESIM模型，提交测试集预测结果。"
   ]
  },
  {
   "cell_type": "code",
   "execution_count": 158,
   "metadata": {},
   "outputs": [],
   "source": [
    "from torch.nn import functional as F\n",
    "from torch.nn.utils.rnn import pack_padded_sequence, pad_packed_sequence\n",
    "\n",
    "class ESIM(nn.Module):\n",
    "    def __init__(self, config):\n",
    "        super(ESIM, self).__init__()\n",
    "        self.embedding = nn.Embedding(config['vocab_size'], config['embedding_size'], padding_idx=pad_idx)\n",
    "        self.lstm1 = nn.LSTM(config['embedding_size'], config['hidden_size'],\n",
    "                             num_layers=config['num_layers'],\n",
    "                             bidirectional=True,\n",
    "                             batch_first=True,\n",
    "                             dropout=0.5)\n",
    "        self.lstm2 = nn.LSTM(8 * config['hidden_size'], config['hidden_size'],\n",
    "                             num_layers=config['num_layers'],\n",
    "                             bidirectional=True,\n",
    "                             batch_first=True,\n",
    "                             dropout=0.5)\n",
    "        self.avg_pool = nn.AdaptiveAvgPool1d(1)\n",
    "        self.max_pool = nn.AdaptiveMaxPool1d(1)\n",
    "        \n",
    "        self.fc = nn.Sequential(nn.Linear(8 * config['hidden_size'], config['hidden_size']),\n",
    "                                nn.ReLU(),\n",
    "                                nn.Dropout(0.5),\n",
    "                                nn.Linear(config['hidden_size'], 2))\n",
    "    \n",
    "    def soft_align_attention(self, x1, x2, mask1, mask2):\n",
    "        attention = torch.matmul(x1, x2.transpose(1, 2))\n",
    "        mask1 = mask1.float().masked_fill_(mask1, float('-inf'))\n",
    "        mask2 = mask2.float().masked_fill_(mask2, float('-inf'))\n",
    "        \n",
    "        weight1 = F.softmax(attention + mask2.unsqueeze(1), dim=-1)\n",
    "        x1_align = torch.matmul(weight1, x2)\n",
    "        weight2 = F.softmax(attention.transpose(1, 2) + mask1.unsqueeze(1), dim=-1)\n",
    "        x2_align = torch.matmul(weight2, x1)\n",
    "\n",
    "        return x1_align, x2_align   \n",
    "    \n",
    "    def submul(self, x1, x2):\n",
    "        sub = x1 - x2\n",
    "        mul = x1 * x2\n",
    "        return torch.cat([sub, mul], axis=-1)\n",
    "    \n",
    "    def pool(self, x):\n",
    "        # x = [batch_size, seq_len, 2 * hidden_size]\n",
    "        avg_pooled = self.avg_pool(x.transpose(1, 2)).squeeze(-1)\n",
    "        max_pooled = self.max_pool(x.transpose(1, 2)).squeeze(-1)\n",
    "        return torch.cat([avg_pooled, max_pooled], axis=-1)\n",
    "    \n",
    "    def forward(self, x1, x2, text_len1, text_len2):\n",
    "        emb1 = self.embedding(x1)\n",
    "        emb2 = self.embedding(x2)\n",
    "        \n",
    "        packed_emb1 = pack_padded_sequence(emb1, text_len1, batch_first=True, enforce_sorted=False)\n",
    "        packed_emb2 = pack_padded_sequence(emb2, text_len2, batch_first=True, enforce_sorted=False)\n",
    "        o1, _ = self.lstm1(packed_emb1)\n",
    "        o2, _ = self.lstm1(packed_emb2)\n",
    "        o1, _ = pad_packed_sequence(o1, batch_first=True, total_length=config['max_len'])\n",
    "        o2, _ = pad_packed_sequence(o2, batch_first=True, total_length=config['max_len'])\n",
    "        \n",
    "        mask1 = x1.eq(pad_idx)\n",
    "        mask2 = x2.eq(pad_idx)\n",
    "        \n",
    "        x1_align, x2_align = self.soft_align_attention(o1, o2, mask1, mask2)\n",
    "        x1_combined = torch.cat([o1, x1_align, self.submul(o1, x1_align)], axis=-1)\n",
    "        x2_combined = torch.cat([o2, x2_align, self.submul(o2, x2_align)], axis=-1)\n",
    "        \n",
    "        packed_x1_combined = pack_padded_sequence(x1_combined, text_len1, batch_first=True, enforce_sorted=False)\n",
    "        packed_x2_combined = pack_padded_sequence(x2_combined, text_len2, batch_first=True, enforce_sorted=False)\n",
    "        x1_compose, _ = self.lstm2(packed_x1_combined)\n",
    "        x2_compose, _ = self.lstm2(packed_x2_combined)\n",
    "        x1_compose, _ = pad_packed_sequence(x1_compose, batch_first=True, total_length=config['max_len'])\n",
    "        x2_compose, _ = pad_packed_sequence(x2_compose, batch_first=True, total_length=config['max_len'])\n",
    "        \n",
    "        x1_pooled = self.pool(x1_compose)\n",
    "        x2_pooled = self.pool(x2_compose)\n",
    "        combined_feature = torch.cat([x1_pooled, x2_pooled], axis=-1)\n",
    "        sim = self.fc(combined_feature)\n",
    "        return sim"
   ]
  },
  {
   "cell_type": "code",
   "execution_count": 159,
   "metadata": {},
   "outputs": [
    {
     "name": "stdout",
     "output_type": "stream",
     "text": [
      "================================================================00:20:13\n",
      "Start Training...\n",
      "================================================================00:36:32\n",
      "Epoch: 1, train loss: 0.5097, valid loss: 0.5923, train_acc: 0.7532, valid_acc: 0.7045\n",
      "================================================================00:52:41\n",
      "Epoch: 2, train loss: 0.3732, valid loss: 0.5523, train_acc: 0.8370, valid_acc: 0.7415\n",
      "================================================================01:08:50\n",
      "Epoch: 3, train loss: 0.2965, valid loss: 0.5565, train_acc: 0.8768, valid_acc: 0.7546\n",
      "================================================================01:24:57\n",
      "Epoch: 4, train loss: 0.2402, valid loss: 0.5867, train_acc: 0.9027, valid_acc: 0.7564\n",
      "================================================================01:41:05\n",
      "Epoch: 5, train loss: 0.1987, valid loss: 0.6185, train_acc: 0.9211, valid_acc: 0.7598\n",
      "================================================================01:57:17\n",
      "Epoch: 6, train loss: 0.1679, valid loss: 0.6859, train_acc: 0.9336, valid_acc: 0.7558\n",
      "================================================================02:13:25\n",
      "Epoch: 7, train loss: 0.1451, valid loss: 0.7136, train_acc: 0.9426, valid_acc: 0.7542\n",
      "================================================================02:29:34\n",
      "Epoch: 8, train loss: 0.1295, valid loss: 0.8198, train_acc: 0.9488, valid_acc: 0.7536\n",
      "================================================================02:45:44\n",
      "Epoch: 9, train loss: 0.1172, valid loss: 0.8384, train_acc: 0.9532, valid_acc: 0.7570\n",
      "================================================================03:01:50\n",
      "Epoch: 10, train loss: 0.1082, valid loss: 0.8271, train_acc: 0.9568, valid_acc: 0.7527\n"
     ]
    }
   ],
   "source": [
    "epochs = 10\n",
    "loss_fn = nn.CrossEntropyLoss()\n",
    "esim = ESIM(config)\n",
    "optimizer = torch.optim.Adam(esim.parameters(), lr=1e-3)\n",
    "\n",
    "train_loss, valid_loss = train(esim, epochs, loss_fn, train_dl, dev_dl, optimizer, rnn=True)"
   ]
  },
  {
   "cell_type": "code",
   "execution_count": 160,
   "metadata": {},
   "outputs": [],
   "source": [
    "corpus_pred_esim = predict(esim, corpus_test_dl, rnn=True)\n",
    "lcqmc_pred_esim = predict(esim, lcqmc_test_dl, rnn=True)\n",
    "paws_pred_esim = predict(esim, paws_test_dl, rnn=True)\n",
    "\n",
    "pd.DataFrame(corpus_pred_esim, columns=['prediction']).to_csv('submit/esim/bq_corpus.tsv', sep='\\t', index_label='index')\n",
    "pd.DataFrame(lcqmc_pred_esim, columns=['prediction']).to_csv('submit/esim/lcqmc.tsv', sep='\\t', index_label='index')\n",
    "pd.DataFrame(paws_pred_esim, columns=['prediction']).to_csv('submit/esim/paws-x.tsv', sep='\\t', index_label='index')"
   ]
  },
  {
   "cell_type": "code",
   "execution_count": 161,
   "metadata": {},
   "outputs": [],
   "source": [
    "torch.save(esim.state_dict, 'esim.model')"
   ]
  },
  {
   "cell_type": "markdown",
   "metadata": {},
   "source": [
    "**任务8：使用BERT或ERNIE完成NSP任务**\n",
    "\n",
    "- 参考代码：\n",
    "  - https://aistudio.baidu.com/aistudio/projectdetail/3168859\n",
    "  - [bert-nsp代码](https://gitee.com/coggle/competition-baseline/blob/master/competition/科大讯飞AI开发者大赛2021/中文问题相似度挑战赛/bert-nsp-xunfei.ipynb)\n",
    "- **步骤1** ：学习Bert模型的使用。\n",
    "- **步骤2** ：使用Bert完成NSP任务的训练和预测，提交测试集预测结果。"
   ]
  },
  {
   "cell_type": "code",
   "execution_count": 1,
   "metadata": {},
   "outputs": [],
   "source": [
    "import pandas as pd\n",
    "import numpy as np\n",
    "import random\n",
    "import torch\n",
    "from torch import nn\n",
    "from torch.utils.data import Dataset, DataLoader\n",
    "\n",
    "from transformers import BertTokenizer\n",
    "\n",
    "DataSet_Path = {\n",
    "    'lcqmc':\n",
    "            {'train':'data/lcqmc/train.tsv',\n",
    "             'dev':'data/lcqmc/dev.tsv',\n",
    "             'test':'data/lcqmc/test.tsv'},\n",
    "    'paws':\n",
    "            {'train':'data/paws-x-zh/train.tsv',\n",
    "             'dev':'data/paws-x-zh/dev.tsv',\n",
    "             'test':'data/paws-x-zh/test.tsv'},\n",
    "    'corpus':\n",
    "            {'train':'data/bq_corpus/train.tsv',\n",
    "             'dev':'data/bq_corpus/dev.tsv',\n",
    "             'test':'data/bq_corpus/test.tsv'}\n",
    "}"
   ]
  },
  {
   "cell_type": "code",
   "execution_count": 2,
   "metadata": {},
   "outputs": [],
   "source": [
    "def converter(instr):\n",
    "    return np.fromstring(instr[1:-1],sep=' ')\n",
    "\n",
    "convert_cols = ['mean_pooling1', 'mean_pooling2', 'max_pooling1', 'max_pooling2','tfidf_pooling1', 'tfidf_pooling2']\n",
    "\n",
    "corpus_train_df = pd.read_csv('data/bq_corpus/train_feature.tsv', sep='\\t', \n",
    "                              converters={col: converter for col in convert_cols})\n",
    "corpus_dev_df = pd.read_csv('data/bq_corpus/dev_feature.tsv', sep='\\t',\n",
    "                              converters={col: converter for col in convert_cols})\n",
    "corpus_test_df = pd.read_csv('data/bq_corpus/test_feature.tsv', sep='\\t',\n",
    "                              converters={col: converter for col in convert_cols})\n",
    "\n",
    "lcqmc_train_df = pd.read_csv('data/lcqmc/train_feature.tsv', sep='\\t', \n",
    "                              converters={col: converter for col in convert_cols})\n",
    "lcqmc_dev_df = pd.read_csv('data/lcqmc/dev_feature.tsv', sep='\\t',\n",
    "                              converters={col: converter for col in convert_cols})\n",
    "lcqmc_test_df = pd.read_csv('data/lcqmc/test_feature.tsv', sep='\\t',\n",
    "                              converters={col: converter for col in convert_cols})\n",
    "\n",
    "paws_train_df = pd.read_csv('data/paws-x-zh/train_feature.tsv', sep='\\t', \n",
    "                              converters={col: converter for col in convert_cols})\n",
    "paws_dev_df = pd.read_csv('data/paws-x-zh/dev_feature.tsv', sep='\\t',\n",
    "                              converters={col: converter for col in convert_cols})\n",
    "paws_test_df = pd.read_csv('data/paws-x-zh/test_feature.tsv', sep='\\t',\n",
    "                              converters={col: converter for col in convert_cols})\n",
    "\n",
    "train_df = pd.concat([corpus_train_df[['text1', 'text2', 'label']],\n",
    "                      lcqmc_train_df[['text1', 'text2', 'label']],\n",
    "                      paws_train_df[['text1', 'text2', 'label']]], axis=0)\n",
    "dev_df = pd.concat([corpus_dev_df[['text1', 'text2', 'label']],\n",
    "                      lcqmc_dev_df[['text1', 'text2', 'label']],\n",
    "                      paws_dev_df[['text1', 'text2', 'label']]], axis=0)\n",
    "\n",
    "del corpus_train_df\n",
    "del corpus_dev_df\n",
    "del lcqmc_train_df\n",
    "del lcqmc_dev_df\n",
    "del paws_train_df\n",
    "del paws_dev_df"
   ]
  },
  {
   "cell_type": "code",
   "execution_count": 3,
   "metadata": {},
   "outputs": [],
   "source": [
    "model_path = '/home/kuan/bert/bert-base-chinese/'\n",
    "\n",
    "from datetime import datetime\n",
    "\n",
    "def printbar():\n",
    "    nowtime = datetime.now()\n",
    "    print('========' * 8 + nowtime.strftime('%H:%M:%S'))"
   ]
  },
  {
   "cell_type": "code",
   "execution_count": 12,
   "metadata": {},
   "outputs": [],
   "source": [
    "train_df = train_df[:1000]\n",
    "dev_df = dev_df[:1000]"
   ]
  },
  {
   "cell_type": "code",
   "execution_count": 13,
   "metadata": {},
   "outputs": [],
   "source": [
    "tokenizer = BertTokenizer(model_path + 'vocab.txt')\n",
    "train_encodings = tokenizer(list(train_df['text1'].apply(str)), list(train_df['text2'].apply(str)), truncation='longest_first', padding='max_length', max_length=50)\n",
    "dev_encodings = tokenizer(list(dev_df['text1']), list(dev_df['text2']), truncation='longest_first', padding='max_length', max_length=50)\n",
    "corpus_test_encodings = tokenizer(list(corpus_test_df['text1']), list(corpus_test_df['text2']), truncation='longest_first', padding='max_length', max_length=50)\n",
    "lcqmc_test_encodings = tokenizer(list(lcqmc_test_df['text1']), list(lcqmc_test_df['text2']), truncation='longest_first', padding='max_length', max_length=50)\n",
    "paws_test_encodings = tokenizer(list(paws_test_df['text1']), list(paws_test_df['text2']), truncation='longest_first', padding='max_length', max_length=50)"
   ]
  },
  {
   "cell_type": "code",
   "execution_count": 14,
   "metadata": {},
   "outputs": [],
   "source": [
    "class BertDataset(Dataset):\n",
    "    def __init__(self, encodings, labels=None):\n",
    "        self.encodings = encodings\n",
    "        self.labels = labels\n",
    "        \n",
    "    def __getitem__(self, idx):\n",
    "        item = {key: torch.tensor(val[idx]) for key, val in self.encodings.items()}\n",
    "        if self.labels is not None:\n",
    "            item['label'] = torch.tensor(int(self.labels[idx]))\n",
    "        return item\n",
    "    \n",
    "    def __len__(self):\n",
    "        return len(self.encodings['input_ids'])"
   ]
  },
  {
   "cell_type": "code",
   "execution_count": 15,
   "metadata": {},
   "outputs": [],
   "source": [
    "from transformers import BertForNextSentencePrediction, AdamW, get_linear_schedule_with_warmup\n",
    "\n",
    "batch_size = 64\n",
    "\n",
    "train_ds = BertDataset(train_encodings, list(train_df['label']))\n",
    "dev_ds = BertDataset(dev_encodings, list(dev_df['label']))\n",
    "\n",
    "train_dl = DataLoader(train_ds, batch_size=batch_size, shuffle=True)\n",
    "dev_dl = DataLoader(dev_ds, batch_size=batch_size, shuffle=True)"
   ]
  },
  {
   "cell_type": "code",
   "execution_count": 16,
   "metadata": {},
   "outputs": [],
   "source": [
    "corpus_test_ds = BertDataset(corpus_test_encodings)\n",
    "lcqmc_test_ds = BertDataset(lcqmc_test_encodings)\n",
    "paws_test_ds = BertDataset(paws_test_encodings)\n",
    "\n",
    "corpus_test_dl = DataLoader(corpus_test_ds, batch_size=batch_size, shuffle=False)\n",
    "lcqmc_test_dl = DataLoader(lcqmc_test_ds, batch_size=batch_size, shuffle=False)\n",
    "paws_test_dl = DataLoader(paws_test_ds, batch_size=batch_size, shuffle=False)"
   ]
  },
  {
   "cell_type": "code",
   "execution_count": 17,
   "metadata": {},
   "outputs": [
    {
     "name": "stderr",
     "output_type": "stream",
     "text": [
      "Some weights of the model checkpoint at /home/kuan/bert/bert-base-chinese/ were not used when initializing BertForNextSentencePrediction: ['cls.predictions.transform.LayerNorm.bias', 'cls.predictions.transform.dense.weight', 'cls.predictions.decoder.weight', 'cls.predictions.transform.LayerNorm.weight', 'cls.predictions.transform.dense.bias', 'cls.predictions.bias']\n",
      "- This IS expected if you are initializing BertForNextSentencePrediction from the checkpoint of a model trained on another task or with another architecture (e.g. initializing a BertForSequenceClassification model from a BertForPreTraining model).\n",
      "- This IS NOT expected if you are initializing BertForNextSentencePrediction from the checkpoint of a model that you expect to be exactly identical (initializing a BertForSequenceClassification model from a BertForSequenceClassification model).\n"
     ]
    }
   ],
   "source": [
    "device = torch.device('cuda' if torch.cuda.is_available() else 'cpu')\n",
    "bert_model = BertForNextSentencePrediction.from_pretrained(model_path).to(device)\n",
    "\n",
    "optimizer = AdamW(bert_model.parameters(), lr=1e-5)\n",
    "len_dataset = len(train_ds)\n",
    "epochs = 10\n",
    "total_steps = (len_dataset // batch_size) * epochs\n",
    "warmup_ratio = 0.1\n",
    "scheduler = get_linear_schedule_with_warmup(optimizer, num_warmup_steps=warmup_ratio * total_steps, num_training_steps=total_steps)"
   ]
  },
  {
   "cell_type": "code",
   "execution_count": 18,
   "metadata": {},
   "outputs": [],
   "source": [
    "def bert_train(bert, train_dl, valid_dl, epochs, optimizer, scheduler, device):\n",
    "    bert.train()\n",
    "    printbar()\n",
    "    print('Start Training...')\n",
    "    total_train_loss = []\n",
    "    total_valid_loss = []\n",
    "    iter_nums = 0\n",
    "    for epoch in range(epochs):\n",
    "        epoch_train_loss = 0\n",
    "        count = 0\n",
    "        for batch in train_dl:\n",
    "            optimizer.zero_grad()\n",
    "            input_ids = batch['input_ids'].to(device)\n",
    "            attention_mask = batch['attention_mask'].to(device)\n",
    "            labels = batch['label'].to(device)\n",
    "            y_out = bert(input_ids, attention_mask=attention_mask, labels=labels)\n",
    "            loss = y_out.loss\n",
    "            loss.backward()\n",
    "            optimizer.step()\n",
    "            scheduler.step()\n",
    "            epoch_train_loss += loss.item()\n",
    "            y_pred = torch.max(y_out.logits, 1)[1]\n",
    "            count += (y_pred.cpu().numpy() == labels.cpu().numpy()).mean()\n",
    "        train_acc = count / len(train_dl)\n",
    "        train_loss = epoch_train_loss / len(train_dl)\n",
    "        valid_loss, valid_acc = evaluate(bert, valid_dl, device)\n",
    "        printbar()\n",
    "        print(f'Epoch: {epoch+1}, train loss: {train_loss:.4f}, valid loss: {valid_loss:.4f}, train_acc: {train_acc:.4f}, valid_acc: {valid_acc:.4f}')\n",
    "        total_train_loss.append(train_loss)\n",
    "        total_valid_loss.append(valid_loss)\n",
    "        bert.save_pretrained(f'bert_epoch_{epoch}')\n",
    "    return total_train_loss, total_valid_loss\n",
    "\n",
    "def evaluate(bert, valid_dl, device):\n",
    "    bert.eval()\n",
    "    valid_loss = 0\n",
    "    count = 0\n",
    "    with torch.no_grad():\n",
    "        for batch in valid_dl:\n",
    "            input_ids = batch['input_ids'].to(device)\n",
    "            attention_mask = batch['attention_mask'].to(device)\n",
    "            labels = batch['label'].to(device)\n",
    "            y_out = bert(input_ids, attention_mask=attention_mask, labels=labels)\n",
    "            loss = y_out.loss\n",
    "            valid_loss += loss.item()\n",
    "            y_pred = torch.max(y_out.logits, 1)[1]\n",
    "            count += (y_pred.cpu().numpy() == labels.cpu().numpy()).mean()\n",
    "    return valid_loss / len(valid_dl), count / len(valid_dl)"
   ]
  },
  {
   "cell_type": "code",
   "execution_count": 19,
   "metadata": {},
   "outputs": [],
   "source": [
    "import os\n",
    "os.environ[\"KMP_DUPLICATE_LIB_OK\"]=\"TRUE\""
   ]
  },
  {
   "cell_type": "code",
   "execution_count": 20,
   "metadata": {},
   "outputs": [
    {
     "name": "stdout",
     "output_type": "stream",
     "text": [
      "================================================================11:43:33\n",
      "Start Training...\n",
      "================================================================11:45:31\n",
      "Epoch: 1, train loss: 0.8901, valid loss: 0.6457, train_acc: 0.5208, valid_acc: 0.6478\n",
      "================================================================11:47:35\n",
      "Epoch: 2, train loss: 0.5988, valid loss: 0.6087, train_acc: 0.6875, valid_acc: 0.6736\n",
      "================================================================11:50:15\n",
      "Epoch: 3, train loss: 0.4525, valid loss: 0.6044, train_acc: 0.8036, valid_acc: 0.6895\n",
      "================================================================11:53:06\n",
      "Epoch: 4, train loss: 0.2724, valid loss: 0.7187, train_acc: 0.9028, valid_acc: 0.6786\n",
      "================================================================11:55:21\n",
      "Epoch: 5, train loss: 0.1233, valid loss: 0.8532, train_acc: 0.9663, valid_acc: 0.6786\n",
      "================================================================11:57:44\n",
      "Epoch: 6, train loss: 0.0436, valid loss: 1.0406, train_acc: 0.9901, valid_acc: 0.7063\n",
      "================================================================12:00:29\n",
      "Epoch: 7, train loss: 0.0320, valid loss: 1.0659, train_acc: 0.9911, valid_acc: 0.7103\n",
      "================================================================12:02:35\n",
      "Epoch: 8, train loss: 0.0177, valid loss: 1.0950, train_acc: 0.9940, valid_acc: 0.7054\n",
      "================================================================12:04:35\n",
      "Epoch: 9, train loss: 0.0052, valid loss: 1.1523, train_acc: 1.0000, valid_acc: 0.7133\n",
      "================================================================12:06:38\n",
      "Epoch: 10, train loss: 0.0040, valid loss: 1.1476, train_acc: 1.0000, valid_acc: 0.7192\n"
     ]
    }
   ],
   "source": [
    "train_loss, valid_loss = bert_train(bert_model, train_dl, dev_dl, epochs, optimizer, scheduler, device)"
   ]
  },
  {
   "cell_type": "code",
   "execution_count": 21,
   "metadata": {},
   "outputs": [],
   "source": [
    "def bert_predict(bert, test_dl):\n",
    "    bert.eval()\n",
    "    y_pred = []\n",
    "    for batch in test_dl:\n",
    "        input_ids = batch['input_ids']\n",
    "        attention_mask = batch['attention_mask']\n",
    "        y_out = bert(input_ids, attention_mask=attention_mask)\n",
    "        y_pred.extend(torch.max(y_out.logits, 1)[1].tolist())\n",
    "    return y_pred"
   ]
  },
  {
   "cell_type": "code",
   "execution_count": null,
   "metadata": {},
   "outputs": [],
   "source": [
    "corpus_pred_bert = bert_predict(bert_model, corpus_test_dl)\n",
    "lcqmc_pred_bert = bert_predict(bert_model, lcqmc_test_dl)\n",
    "paws_pred_bert = bert_predict(bert_model, paws_test_dl)\n",
    "\n",
    "pd.DataFrame(corpus_pred_bert, columns=['prediction']).to_csv('submit/bert/bq_corpus.tsv', sep='\\t', index_label='index')\n",
    "pd.DataFrame(lcqmc_pred_bert, columns=['prediction']).to_csv('submit/bert/lcqmc.tsv', sep='\\t', index_label='index')\n",
    "pd.DataFrame(paws_pred_bert, columns=['prediction']).to_csv('submit/bert/paws-x.tsv', sep='\\t', index_label='index')"
   ]
  },
  {
   "cell_type": "code",
   "execution_count": null,
   "metadata": {},
   "outputs": [],
   "source": []
  }
 ],
 "metadata": {
  "colab": {
   "collapsed_sections": [],
   "name": "中文文本相似度.ipynb",
   "provenance": []
  },
  "kernelspec": {
   "display_name": "Python 3",
   "language": "python",
   "name": "python3"
  },
  "language_info": {
   "codemirror_mode": {
    "name": "ipython",
    "version": 3
   },
   "file_extension": ".py",
   "mimetype": "text/x-python",
   "name": "python",
   "nbconvert_exporter": "python",
   "pygments_lexer": "ipython3",
   "version": "3.8.8"
  }
 },
 "nbformat": 4,
 "nbformat_minor": 1
}
